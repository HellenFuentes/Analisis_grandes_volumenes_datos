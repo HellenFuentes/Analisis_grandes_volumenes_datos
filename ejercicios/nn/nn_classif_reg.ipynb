{
 "cells": [
  {
   "cell_type": "markdown",
   "id": "7481f858-dc1e-4051-9f25-7edcbec325d4",
   "metadata": {},
   "source": [
    "## Propósito\n",
    "\n",
    "En este ejercicio se trabaja con el tutorial [Neural Network Models for Combined Classification and Regression](https://machinelearningmastery.com/neural-network-models-for-combined-classification-and-regression/) desarrollado por el Dr. Brownlee.\n",
    "\n",
    "Modelo combinado de regresión y clasificación multiclase utilizando `keras`"
   ]
  },
  {
   "cell_type": "code",
   "execution_count": 1,
   "id": "896c791b-f0f0-4559-9dbd-2d023d79e772",
   "metadata": {},
   "outputs": [],
   "source": [
    "# regression mlp model for the abalone dataset\n",
    "from pandas import read_csv\n",
    "from numpy import unique\n",
    "from numpy import argmax\n",
    "from tensorflow.keras.models import Sequential\n",
    "from tensorflow.keras.layers import Dense\n",
    "from sklearn.metrics import mean_absolute_error\n",
    "from sklearn.model_selection import train_test_split\n",
    "from sklearn.preprocessing import LabelEncoder\n",
    "from sklearn.metrics import accuracy_score\n",
    "from tensorflow.keras.models import Model\n",
    "from tensorflow.keras.layers import Input\n",
    "from tensorflow.keras.utils import plot_model"
   ]
  },
  {
   "cell_type": "code",
   "execution_count": 2,
   "id": "d9641688-1259-4f50-b972-1c4cc1e9fabe",
   "metadata": {
    "tags": []
   },
   "outputs": [
    {
     "name": "stdout",
     "output_type": "stream",
     "text": [
      "(4177, 9)\n",
      "   0      1      2      3       4       5       6      7   8\n",
      "0  M  0.455  0.365  0.095  0.5140  0.2245  0.1010  0.150  15\n",
      "1  M  0.350  0.265  0.090  0.2255  0.0995  0.0485  0.070   7\n",
      "2  F  0.530  0.420  0.135  0.6770  0.2565  0.1415  0.210   9\n",
      "3  M  0.440  0.365  0.125  0.5160  0.2155  0.1140  0.155  10\n",
      "4  I  0.330  0.255  0.080  0.2050  0.0895  0.0395  0.055   7\n"
     ]
    }
   ],
   "source": [
    "# load and summarize the abalone dataset\n",
    "from matplotlib import pyplot\n",
    "# load dataset\n",
    "url = 'https://raw.githubusercontent.com/jbrownlee/Datasets/master/abalone.csv'\n",
    "dataframe = read_csv(url, header=None)\n",
    "# summarize shape\n",
    "print(dataframe.shape)\n",
    "# summarize first few lines\n",
    "print(dataframe.head())"
   ]
  },
  {
   "cell_type": "code",
   "execution_count": 3,
   "id": "6622d2d6-a761-4228-b673-c1321dcb7376",
   "metadata": {},
   "outputs": [
    {
     "name": "stdout",
     "output_type": "stream",
     "text": [
      "7\n"
     ]
    }
   ],
   "source": [
    "# split into input (X) and output (y) variables\n",
    "X, y = dataframe.iloc[:, 1:-1], dataframe.iloc[:, -1]\n",
    "X, y = X.astype('float'), y.astype('float')\n",
    "n_features = X.shape[1]\n",
    "print(n_features)"
   ]
  },
  {
   "cell_type": "code",
   "execution_count": 4,
   "id": "ee853562-fd4d-4ee0-afee-83596a4483c5",
   "metadata": {},
   "outputs": [],
   "source": [
    "# split data into train and test sets\n",
    "X_train, X_test, y_train, y_test = train_test_split(X, y, test_size=0.33, random_state=1)"
   ]
  },
  {
   "cell_type": "code",
   "execution_count": 5,
   "id": "f1bab6b1-264f-46d4-ba0d-dc31193cc305",
   "metadata": {},
   "outputs": [],
   "source": [
    "# define the keras model\n",
    "model = Sequential()\n",
    "model.add(Dense(20, input_dim=n_features, activation='relu', kernel_initializer='he_normal'))\n",
    "model.add(Dense(10, activation='relu', kernel_initializer='he_normal'))\n",
    "model.add(Dense(1, activation='linear'))"
   ]
  },
  {
   "cell_type": "code",
   "execution_count": 6,
   "id": "15cfab1d-3075-4282-b347-9292cd3f853b",
   "metadata": {},
   "outputs": [],
   "source": [
    "# compile the keras model\n",
    "model.compile(loss='mse', optimizer='adam')"
   ]
  },
  {
   "cell_type": "code",
   "execution_count": 7,
   "id": "43e2e80e-9eed-46c2-9d12-a550729886c0",
   "metadata": {
    "tags": []
   },
   "outputs": [
    {
     "data": {
      "text/plain": [
       "<tensorflow.python.keras.callbacks.History at 0x7f9a3934deb0>"
      ]
     },
     "execution_count": 7,
     "metadata": {},
     "output_type": "execute_result"
    }
   ],
   "source": [
    "# fit the keras model on the dataset\n",
    "model.fit(X_train, y_train, epochs=150, batch_size=32, verbose=0)"
   ]
  },
  {
   "cell_type": "markdown",
   "id": "3934c9ee-85cd-44b5-bc4f-4d9929aa7292",
   "metadata": {},
   "source": [
    "## Regression\n"
   ]
  },
  {
   "cell_type": "code",
   "execution_count": 8,
   "id": "69233d32-e3c0-4447-b78d-57f3903dd526",
   "metadata": {},
   "outputs": [
    {
     "name": "stdout",
     "output_type": "stream",
     "text": [
      "MAE: 1.488\n"
     ]
    }
   ],
   "source": [
    "# evaluate on test set\n",
    "yhat = model.predict(X_test)\n",
    "error = mean_absolute_error(y_test, yhat)\n",
    "print('MAE: %.3f' % error)"
   ]
  },
  {
   "cell_type": "markdown",
   "id": "cc41ae4f-d213-4cdd-bfb5-350359921a7c",
   "metadata": {},
   "source": [
    "## Classification"
   ]
  },
  {
   "cell_type": "code",
   "execution_count": 9,
   "id": "bfabe012-3168-4c72-b13e-2fab77b22d11",
   "metadata": {},
   "outputs": [],
   "source": [
    "# encode strings to integer\n",
    "y = LabelEncoder().fit_transform(y)\n",
    "n_class = len(unique(y))"
   ]
  },
  {
   "cell_type": "code",
   "execution_count": 10,
   "id": "5dd553be-ebac-4521-99a2-3a5aefee5d11",
   "metadata": {},
   "outputs": [],
   "source": [
    "# split data into train and test sets\n",
    "X_train, X_test, y_train, y_test = train_test_split(X, y, test_size=0.33, random_state=1)"
   ]
  },
  {
   "cell_type": "code",
   "execution_count": 11,
   "id": "8d161780-c650-47ca-adcc-72eff02969bb",
   "metadata": {},
   "outputs": [],
   "source": [
    "# define the keras model\n",
    "model = Sequential()\n",
    "model.add(Dense(20, input_dim=n_features, activation='relu', kernel_initializer='he_normal'))\n",
    "model.add(Dense(10, activation='relu', kernel_initializer='he_normal'))\n",
    "model.add(Dense(n_class, activation='softmax'))"
   ]
  },
  {
   "cell_type": "code",
   "execution_count": 12,
   "id": "81181a6e-b252-4c35-891b-a7602fd2b5cc",
   "metadata": {},
   "outputs": [],
   "source": [
    "# compile the keras model\n",
    "model.compile(loss='sparse_categorical_crossentropy', optimizer='adam')\n"
   ]
  },
  {
   "cell_type": "code",
   "execution_count": 13,
   "id": "15ae800e-0787-44e6-85d1-d288f0f815a9",
   "metadata": {},
   "outputs": [
    {
     "data": {
      "text/plain": [
       "<tensorflow.python.keras.callbacks.History at 0x7f9a18311b80>"
      ]
     },
     "execution_count": 13,
     "metadata": {},
     "output_type": "execute_result"
    }
   ],
   "source": [
    "# fit the keras model on the dataset\n",
    "model.fit(X_train, y_train, epochs=150, batch_size=32, verbose=0)"
   ]
  },
  {
   "cell_type": "code",
   "execution_count": 35,
   "id": "5134106a-77be-458c-b0ee-a0967f0a46c4",
   "metadata": {},
   "outputs": [
    {
     "name": "stdout",
     "output_type": "stream",
     "text": [
      "Accuracy: 0.270\n"
     ]
    }
   ],
   "source": [
    "# evaluate on test set\n",
    "yhat = model.predict(X_test)\n",
    "yhat = argmax(yhat, axis=-1).astype('int')\n",
    "acc = accuracy_score(y_test, yhat)\n",
    "print('Accuracy: %.3f' % acc)"
   ]
  },
  {
   "cell_type": "markdown",
   "id": "07a21a76-9670-4d57-bec8-63b16660fc1f",
   "metadata": {},
   "source": [
    "## Combined Regression and Classification"
   ]
  },
  {
   "cell_type": "code",
   "execution_count": 36,
   "id": "68087270-cf59-4ab6-9b47-c64db1773262",
   "metadata": {},
   "outputs": [],
   "source": [
    "# encode strings to integer\n",
    "y_class = LabelEncoder().fit_transform(y)\n",
    "n_class = len(unique(y_class))"
   ]
  },
  {
   "cell_type": "code",
   "execution_count": 37,
   "id": "1147e54c-98e1-49cb-a8e7-3bd56974da6f",
   "metadata": {},
   "outputs": [],
   "source": [
    "# split data into train and test sets\n",
    "X_train, X_test, y_train, y_test, y_train_class, y_test_class = train_test_split(X, y, y_class, \n",
    "                         test_size=0.33, random_state=1)\n"
   ]
  },
  {
   "cell_type": "code",
   "execution_count": 40,
   "id": "9097202e-303f-49b9-8dc5-8081dc11fa22",
   "metadata": {},
   "outputs": [],
   "source": [
    "# input\n",
    "visible = Input(shape=(n_features,))\n",
    "hidden1 = Dense(20, activation='relu', kernel_initializer='he_normal')(visible)\n",
    "hidden2 = Dense(10, activation='relu', kernel_initializer='he_normal')(hidden1)"
   ]
  },
  {
   "cell_type": "code",
   "execution_count": 41,
   "id": "21a17815-4b93-4f3e-b069-19d7d985ffd6",
   "metadata": {},
   "outputs": [],
   "source": [
    "# regression output\n",
    "out_reg = Dense(1, activation='linear')(hidden2)"
   ]
  },
  {
   "cell_type": "code",
   "execution_count": 42,
   "id": "4a39a477-ca50-46c9-a569-8b2658ccf9e2",
   "metadata": {},
   "outputs": [],
   "source": [
    "# classification output\n",
    "out_clas = Dense(n_class, activation='softmax')(hidden2)"
   ]
  },
  {
   "cell_type": "code",
   "execution_count": 43,
   "id": "264bbea8-1ae9-4b72-840f-62e000546a65",
   "metadata": {},
   "outputs": [],
   "source": [
    "# define model\n",
    "model = Model(inputs=visible, outputs=[out_reg, out_clas])"
   ]
  },
  {
   "cell_type": "code",
   "execution_count": 44,
   "id": "12896cd8-bbf1-4560-9dae-990adc9f43ac",
   "metadata": {},
   "outputs": [],
   "source": [
    "# compile the keras model\n",
    "model.compile(loss=['mse','sparse_categorical_crossentropy'], optimizer='adam')"
   ]
  },
  {
   "cell_type": "code",
   "execution_count": 54,
   "id": "7ce81ed5-f7fb-490b-850a-6df8f553ffda",
   "metadata": {
    "tags": []
   },
   "outputs": [
    {
     "name": "stdout",
     "output_type": "stream",
     "text": [
      "('Failed to import pydot. You must `pip install pydot` and install graphviz (https://graphviz.gitlab.io/download/), ', 'for `pydotprint` to work.')\n"
     ]
    }
   ],
   "source": [
    "# plot graph of model\n",
    "plot_model(model, to_file='model.png', show_shapes=True)"
   ]
  },
  {
   "cell_type": "code",
   "execution_count": 46,
   "id": "39ed4d68-4fdf-453a-8954-fa6856beb8e3",
   "metadata": {
    "collapsed": true,
    "jupyter": {
     "outputs_hidden": true
    },
    "tags": []
   },
   "outputs": [
    {
     "name": "stdout",
     "output_type": "stream",
     "text": [
      "Epoch 1/150\n",
      "88/88 - 1s - loss: 80.2515 - dense_14_loss: 77.0237 - dense_15_loss: 3.2278\n",
      "Epoch 2/150\n",
      "88/88 - 0s - loss: 39.9615 - dense_14_loss: 37.1110 - dense_15_loss: 2.8506\n",
      "Epoch 3/150\n",
      "88/88 - 0s - loss: 12.5511 - dense_14_loss: 9.9191 - dense_15_loss: 2.6320\n",
      "Epoch 4/150\n",
      "88/88 - 0s - loss: 10.6603 - dense_14_loss: 8.1334 - dense_15_loss: 2.5268\n",
      "Epoch 5/150\n",
      "88/88 - 0s - loss: 10.3949 - dense_14_loss: 7.8944 - dense_15_loss: 2.5006\n",
      "Epoch 6/150\n",
      "88/88 - 0s - loss: 10.1698 - dense_14_loss: 7.6787 - dense_15_loss: 2.4911\n",
      "Epoch 7/150\n",
      "88/88 - 0s - loss: 9.9728 - dense_14_loss: 7.4964 - dense_15_loss: 2.4765\n",
      "Epoch 8/150\n",
      "88/88 - 0s - loss: 9.7970 - dense_14_loss: 7.3540 - dense_15_loss: 2.4430\n",
      "Epoch 9/150\n",
      "88/88 - 0s - loss: 9.5996 - dense_14_loss: 7.2043 - dense_15_loss: 2.3954\n",
      "Epoch 10/150\n",
      "88/88 - 0s - loss: 9.4506 - dense_14_loss: 7.1064 - dense_15_loss: 2.3442\n",
      "Epoch 11/150\n",
      "88/88 - 0s - loss: 9.2890 - dense_14_loss: 6.9851 - dense_15_loss: 2.3039\n",
      "Epoch 12/150\n",
      "88/88 - 0s - loss: 9.1866 - dense_14_loss: 6.9122 - dense_15_loss: 2.2744\n",
      "Epoch 13/150\n",
      "88/88 - 0s - loss: 9.0464 - dense_14_loss: 6.7910 - dense_15_loss: 2.2554\n",
      "Epoch 14/150\n",
      "88/88 - 0s - loss: 8.9343 - dense_14_loss: 6.6922 - dense_15_loss: 2.2421\n",
      "Epoch 15/150\n",
      "88/88 - 0s - loss: 8.8088 - dense_14_loss: 6.5744 - dense_15_loss: 2.2344\n",
      "Epoch 16/150\n",
      "88/88 - 0s - loss: 8.6428 - dense_14_loss: 6.4135 - dense_15_loss: 2.2293\n",
      "Epoch 17/150\n",
      "88/88 - 0s - loss: 8.4925 - dense_14_loss: 6.2640 - dense_15_loss: 2.2286\n",
      "Epoch 18/150\n",
      "88/88 - 0s - loss: 8.3559 - dense_14_loss: 6.1308 - dense_15_loss: 2.2251\n",
      "Epoch 19/150\n",
      "88/88 - 0s - loss: 8.2335 - dense_14_loss: 6.0121 - dense_15_loss: 2.2214\n",
      "Epoch 20/150\n",
      "88/88 - 0s - loss: 8.1238 - dense_14_loss: 5.9054 - dense_15_loss: 2.2184\n",
      "Epoch 21/150\n",
      "88/88 - 0s - loss: 8.0047 - dense_14_loss: 5.7901 - dense_15_loss: 2.2146\n",
      "Epoch 22/150\n",
      "88/88 - 0s - loss: 7.8995 - dense_14_loss: 5.6876 - dense_15_loss: 2.2120\n",
      "Epoch 23/150\n",
      "88/88 - 0s - loss: 7.8032 - dense_14_loss: 5.5930 - dense_15_loss: 2.2102\n",
      "Epoch 24/150\n",
      "88/88 - 0s - loss: 7.7192 - dense_14_loss: 5.5112 - dense_15_loss: 2.2080\n",
      "Epoch 25/150\n",
      "88/88 - 0s - loss: 7.6203 - dense_14_loss: 5.4171 - dense_15_loss: 2.2032\n",
      "Epoch 26/150\n",
      "88/88 - 0s - loss: 7.5688 - dense_14_loss: 5.3674 - dense_15_loss: 2.2014\n",
      "Epoch 27/150\n",
      "88/88 - 0s - loss: 7.4886 - dense_14_loss: 5.2918 - dense_15_loss: 2.1968\n",
      "Epoch 28/150\n",
      "88/88 - 0s - loss: 7.4317 - dense_14_loss: 5.2371 - dense_15_loss: 2.1946\n",
      "Epoch 29/150\n",
      "88/88 - 0s - loss: 7.3740 - dense_14_loss: 5.1836 - dense_15_loss: 2.1904\n",
      "Epoch 30/150\n",
      "88/88 - 0s - loss: 7.3289 - dense_14_loss: 5.1416 - dense_15_loss: 2.1873\n",
      "Epoch 31/150\n",
      "88/88 - 0s - loss: 7.2825 - dense_14_loss: 5.0984 - dense_15_loss: 2.1840\n",
      "Epoch 32/150\n",
      "88/88 - 0s - loss: 7.2526 - dense_14_loss: 5.0733 - dense_15_loss: 2.1792\n",
      "Epoch 33/150\n",
      "88/88 - 0s - loss: 7.2094 - dense_14_loss: 5.0337 - dense_15_loss: 2.1757\n",
      "Epoch 34/150\n",
      "88/88 - 0s - loss: 7.1939 - dense_14_loss: 5.0229 - dense_15_loss: 2.1710\n",
      "Epoch 35/150\n",
      "88/88 - 0s - loss: 7.2209 - dense_14_loss: 5.0531 - dense_15_loss: 2.1678\n",
      "Epoch 36/150\n",
      "88/88 - 0s - loss: 7.1521 - dense_14_loss: 4.9901 - dense_15_loss: 2.1620\n",
      "Epoch 37/150\n",
      "88/88 - 0s - loss: 7.1228 - dense_14_loss: 4.9639 - dense_15_loss: 2.1589\n",
      "Epoch 38/150\n",
      "88/88 - 0s - loss: 7.0975 - dense_14_loss: 4.9439 - dense_15_loss: 2.1536\n",
      "Epoch 39/150\n",
      "88/88 - 0s - loss: 7.1038 - dense_14_loss: 4.9536 - dense_15_loss: 2.1503\n",
      "Epoch 40/150\n",
      "88/88 - 0s - loss: 7.0787 - dense_14_loss: 4.9325 - dense_15_loss: 2.1462\n",
      "Epoch 41/150\n",
      "88/88 - 0s - loss: 7.0646 - dense_14_loss: 4.9240 - dense_15_loss: 2.1406\n",
      "Epoch 42/150\n",
      "88/88 - 0s - loss: 7.0544 - dense_14_loss: 4.9182 - dense_15_loss: 2.1362\n",
      "Epoch 43/150\n",
      "88/88 - 0s - loss: 7.0548 - dense_14_loss: 4.9222 - dense_15_loss: 2.1326\n",
      "Epoch 44/150\n",
      "88/88 - 0s - loss: 7.0452 - dense_14_loss: 4.9166 - dense_15_loss: 2.1286\n",
      "Epoch 45/150\n",
      "88/88 - 0s - loss: 7.0148 - dense_14_loss: 4.8906 - dense_15_loss: 2.1242\n",
      "Epoch 46/150\n",
      "88/88 - 0s - loss: 7.0037 - dense_14_loss: 4.8833 - dense_15_loss: 2.1204\n",
      "Epoch 47/150\n",
      "88/88 - 0s - loss: 7.0031 - dense_14_loss: 4.8869 - dense_15_loss: 2.1162\n",
      "Epoch 48/150\n",
      "88/88 - 0s - loss: 6.9886 - dense_14_loss: 4.8768 - dense_15_loss: 2.1118\n",
      "Epoch 49/150\n",
      "88/88 - 0s - loss: 6.9900 - dense_14_loss: 4.8836 - dense_15_loss: 2.1064\n",
      "Epoch 50/150\n",
      "88/88 - 0s - loss: 6.9770 - dense_14_loss: 4.8731 - dense_15_loss: 2.1039\n",
      "Epoch 51/150\n",
      "88/88 - 0s - loss: 6.9594 - dense_14_loss: 4.8598 - dense_15_loss: 2.0997\n",
      "Epoch 52/150\n",
      "88/88 - 0s - loss: 6.9647 - dense_14_loss: 4.8696 - dense_15_loss: 2.0951\n",
      "Epoch 53/150\n",
      "88/88 - 0s - loss: 6.9675 - dense_14_loss: 4.8765 - dense_15_loss: 2.0910\n",
      "Epoch 54/150\n",
      "88/88 - 0s - loss: 6.9850 - dense_14_loss: 4.8959 - dense_15_loss: 2.0891\n",
      "Epoch 55/150\n",
      "88/88 - 0s - loss: 6.9714 - dense_14_loss: 4.8870 - dense_15_loss: 2.0845\n",
      "Epoch 56/150\n",
      "88/88 - 0s - loss: 6.9275 - dense_14_loss: 4.8469 - dense_15_loss: 2.0806\n",
      "Epoch 57/150\n",
      "88/88 - 0s - loss: 6.9174 - dense_14_loss: 4.8407 - dense_15_loss: 2.0767\n",
      "Epoch 58/150\n",
      "88/88 - 0s - loss: 6.9093 - dense_14_loss: 4.8349 - dense_15_loss: 2.0744\n",
      "Epoch 59/150\n",
      "88/88 - 0s - loss: 6.9049 - dense_14_loss: 4.8355 - dense_15_loss: 2.0694\n",
      "Epoch 60/150\n",
      "88/88 - 0s - loss: 6.9311 - dense_14_loss: 4.8652 - dense_15_loss: 2.0659\n",
      "Epoch 61/150\n",
      "88/88 - 0s - loss: 6.8940 - dense_14_loss: 4.8320 - dense_15_loss: 2.0619\n",
      "Epoch 62/150\n",
      "88/88 - 0s - loss: 6.8786 - dense_14_loss: 4.8195 - dense_15_loss: 2.0592\n",
      "Epoch 63/150\n",
      "88/88 - 0s - loss: 6.8875 - dense_14_loss: 4.8309 - dense_15_loss: 2.0565\n",
      "Epoch 64/150\n",
      "88/88 - 0s - loss: 6.8856 - dense_14_loss: 4.8331 - dense_15_loss: 2.0525\n",
      "Epoch 65/150\n",
      "88/88 - 0s - loss: 6.8654 - dense_14_loss: 4.8164 - dense_15_loss: 2.0490\n",
      "Epoch 66/150\n",
      "88/88 - 0s - loss: 6.8564 - dense_14_loss: 4.8115 - dense_15_loss: 2.0449\n",
      "Epoch 67/150\n",
      "88/88 - 0s - loss: 6.8774 - dense_14_loss: 4.8344 - dense_15_loss: 2.0430\n",
      "Epoch 68/150\n",
      "88/88 - 0s - loss: 6.8374 - dense_14_loss: 4.7979 - dense_15_loss: 2.0395\n",
      "Epoch 69/150\n",
      "88/88 - 0s - loss: 6.8268 - dense_14_loss: 4.7912 - dense_15_loss: 2.0355\n",
      "Epoch 70/150\n",
      "88/88 - 0s - loss: 6.8036 - dense_14_loss: 4.7704 - dense_15_loss: 2.0332\n",
      "Epoch 71/150\n",
      "88/88 - 0s - loss: 6.7833 - dense_14_loss: 4.7525 - dense_15_loss: 2.0308\n",
      "Epoch 72/150\n",
      "88/88 - 0s - loss: 6.7836 - dense_14_loss: 4.7545 - dense_15_loss: 2.0292\n",
      "Epoch 73/150\n",
      "88/88 - 0s - loss: 6.7493 - dense_14_loss: 4.7239 - dense_15_loss: 2.0254\n",
      "Epoch 74/150\n",
      "88/88 - 0s - loss: 6.7602 - dense_14_loss: 4.7347 - dense_15_loss: 2.0255\n",
      "Epoch 75/150\n",
      "88/88 - 0s - loss: 6.7575 - dense_14_loss: 4.7336 - dense_15_loss: 2.0239\n",
      "Epoch 76/150\n",
      "88/88 - 0s - loss: 6.7859 - dense_14_loss: 4.7619 - dense_15_loss: 2.0240\n",
      "Epoch 77/150\n",
      "88/88 - 0s - loss: 6.7493 - dense_14_loss: 4.7281 - dense_15_loss: 2.0213\n",
      "Epoch 78/150\n",
      "88/88 - 0s - loss: 6.7449 - dense_14_loss: 4.7251 - dense_15_loss: 2.0198\n",
      "Epoch 79/150\n",
      "88/88 - 0s - loss: 6.7241 - dense_14_loss: 4.7080 - dense_15_loss: 2.0161\n",
      "Epoch 80/150\n",
      "88/88 - 0s - loss: 6.7229 - dense_14_loss: 4.7082 - dense_15_loss: 2.0147\n",
      "Epoch 81/150\n",
      "88/88 - 0s - loss: 6.7235 - dense_14_loss: 4.7098 - dense_15_loss: 2.0137\n",
      "Epoch 82/150\n",
      "88/88 - 0s - loss: 6.7353 - dense_14_loss: 4.7226 - dense_15_loss: 2.0126\n",
      "Epoch 83/150\n",
      "88/88 - 0s - loss: 6.7199 - dense_14_loss: 4.7091 - dense_15_loss: 2.0108\n",
      "Epoch 84/150\n",
      "88/88 - 0s - loss: 6.7060 - dense_14_loss: 4.6965 - dense_15_loss: 2.0095\n",
      "Epoch 85/150\n",
      "88/88 - 0s - loss: 6.7197 - dense_14_loss: 4.7128 - dense_15_loss: 2.0068\n",
      "Epoch 86/150\n",
      "88/88 - 0s - loss: 6.6948 - dense_14_loss: 4.6903 - dense_15_loss: 2.0045\n",
      "Epoch 87/150\n",
      "88/88 - 0s - loss: 6.6901 - dense_14_loss: 4.6861 - dense_15_loss: 2.0040\n",
      "Epoch 88/150\n",
      "88/88 - 0s - loss: 6.6848 - dense_14_loss: 4.6826 - dense_15_loss: 2.0022\n",
      "Epoch 89/150\n",
      "88/88 - 0s - loss: 6.6799 - dense_14_loss: 4.6795 - dense_15_loss: 2.0004\n",
      "Epoch 90/150\n",
      "88/88 - 0s - loss: 6.6838 - dense_14_loss: 4.6836 - dense_15_loss: 2.0001\n",
      "Epoch 91/150\n",
      "88/88 - 0s - loss: 6.6998 - dense_14_loss: 4.7024 - dense_15_loss: 1.9974\n",
      "Epoch 92/150\n",
      "88/88 - 0s - loss: 6.6702 - dense_14_loss: 4.6746 - dense_15_loss: 1.9956\n",
      "Epoch 93/150\n",
      "88/88 - 0s - loss: 6.6754 - dense_14_loss: 4.6802 - dense_15_loss: 1.9953\n",
      "Epoch 94/150\n",
      "88/88 - 0s - loss: 6.6557 - dense_14_loss: 4.6631 - dense_15_loss: 1.9926\n",
      "Epoch 95/150\n",
      "88/88 - 0s - loss: 6.6441 - dense_14_loss: 4.6519 - dense_15_loss: 1.9921\n",
      "Epoch 96/150\n",
      "88/88 - 0s - loss: 6.6546 - dense_14_loss: 4.6642 - dense_15_loss: 1.9903\n",
      "Epoch 97/150\n",
      "88/88 - 0s - loss: 6.6722 - dense_14_loss: 4.6840 - dense_15_loss: 1.9882\n",
      "Epoch 98/150\n",
      "88/88 - 0s - loss: 6.6091 - dense_14_loss: 4.6231 - dense_15_loss: 1.9860\n",
      "Epoch 99/150\n",
      "88/88 - 0s - loss: 6.6513 - dense_14_loss: 4.6642 - dense_15_loss: 1.9871\n",
      "Epoch 100/150\n",
      "88/88 - 0s - loss: 6.6524 - dense_14_loss: 4.6668 - dense_15_loss: 1.9856\n",
      "Epoch 101/150\n",
      "88/88 - 0s - loss: 6.6293 - dense_14_loss: 4.6462 - dense_15_loss: 1.9832\n",
      "Epoch 102/150\n",
      "88/88 - 0s - loss: 6.6183 - dense_14_loss: 4.6358 - dense_15_loss: 1.9825\n",
      "Epoch 103/150\n",
      "88/88 - 0s - loss: 6.6014 - dense_14_loss: 4.6178 - dense_15_loss: 1.9836\n",
      "Epoch 104/150\n",
      "88/88 - 0s - loss: 6.6110 - dense_14_loss: 4.6290 - dense_15_loss: 1.9821\n",
      "Epoch 105/150\n",
      "88/88 - 0s - loss: 6.6254 - dense_14_loss: 4.6439 - dense_15_loss: 1.9816\n",
      "Epoch 106/150\n",
      "88/88 - 0s - loss: 6.6333 - dense_14_loss: 4.6542 - dense_15_loss: 1.9791\n",
      "Epoch 107/150\n",
      "88/88 - 0s - loss: 6.6085 - dense_14_loss: 4.6285 - dense_15_loss: 1.9801\n",
      "Epoch 108/150\n",
      "88/88 - 0s - loss: 6.6138 - dense_14_loss: 4.6362 - dense_15_loss: 1.9776\n",
      "Epoch 109/150\n",
      "88/88 - 0s - loss: 6.5951 - dense_14_loss: 4.6181 - dense_15_loss: 1.9770\n",
      "Epoch 110/150\n",
      "88/88 - 0s - loss: 6.6179 - dense_14_loss: 4.6414 - dense_15_loss: 1.9765\n",
      "Epoch 111/150\n",
      "88/88 - 0s - loss: 6.6199 - dense_14_loss: 4.6429 - dense_15_loss: 1.9770\n",
      "Epoch 112/150\n",
      "88/88 - 0s - loss: 6.5885 - dense_14_loss: 4.6123 - dense_15_loss: 1.9762\n",
      "Epoch 113/150\n",
      "88/88 - 0s - loss: 6.6020 - dense_14_loss: 4.6268 - dense_15_loss: 1.9752\n",
      "Epoch 114/150\n",
      "88/88 - 0s - loss: 6.5805 - dense_14_loss: 4.6060 - dense_15_loss: 1.9745\n",
      "Epoch 115/150\n",
      "88/88 - 0s - loss: 6.5717 - dense_14_loss: 4.5986 - dense_15_loss: 1.9730\n",
      "Epoch 116/150\n",
      "88/88 - 1s - loss: 6.5966 - dense_14_loss: 4.6235 - dense_15_loss: 1.9731\n",
      "Epoch 117/150\n",
      "88/88 - 0s - loss: 6.6061 - dense_14_loss: 4.6339 - dense_15_loss: 1.9722\n",
      "Epoch 118/150\n",
      "88/88 - 0s - loss: 6.5854 - dense_14_loss: 4.6132 - dense_15_loss: 1.9722\n",
      "Epoch 119/150\n",
      "88/88 - 0s - loss: 6.5627 - dense_14_loss: 4.5919 - dense_15_loss: 1.9709\n",
      "Epoch 120/150\n",
      "88/88 - 0s - loss: 6.5594 - dense_14_loss: 4.5902 - dense_15_loss: 1.9692\n",
      "Epoch 121/150\n",
      "88/88 - 0s - loss: 6.5594 - dense_14_loss: 4.5896 - dense_15_loss: 1.9698\n",
      "Epoch 122/150\n",
      "88/88 - 0s - loss: 6.6008 - dense_14_loss: 4.6310 - dense_15_loss: 1.9698\n",
      "Epoch 123/150\n",
      "88/88 - 0s - loss: 6.5340 - dense_14_loss: 4.5648 - dense_15_loss: 1.9692\n",
      "Epoch 124/150\n",
      "88/88 - 0s - loss: 6.5695 - dense_14_loss: 4.6018 - dense_15_loss: 1.9677\n",
      "Epoch 125/150\n",
      "88/88 - 0s - loss: 6.5245 - dense_14_loss: 4.5575 - dense_15_loss: 1.9670\n",
      "Epoch 126/150\n",
      "88/88 - 0s - loss: 6.5589 - dense_14_loss: 4.5922 - dense_15_loss: 1.9667\n",
      "Epoch 127/150\n",
      "88/88 - 0s - loss: 6.5661 - dense_14_loss: 4.5989 - dense_15_loss: 1.9672\n",
      "Epoch 128/150\n",
      "88/88 - 0s - loss: 6.5635 - dense_14_loss: 4.5969 - dense_15_loss: 1.9667\n",
      "Epoch 129/150\n",
      "88/88 - 0s - loss: 6.5428 - dense_14_loss: 4.5788 - dense_15_loss: 1.9640\n",
      "Epoch 130/150\n",
      "88/88 - 0s - loss: 6.5387 - dense_14_loss: 4.5729 - dense_15_loss: 1.9657\n",
      "Epoch 131/150\n",
      "88/88 - 0s - loss: 6.5445 - dense_14_loss: 4.5803 - dense_15_loss: 1.9642\n",
      "Epoch 132/150\n",
      "88/88 - 0s - loss: 6.5372 - dense_14_loss: 4.5734 - dense_15_loss: 1.9637\n",
      "Epoch 133/150\n",
      "88/88 - 0s - loss: 6.5273 - dense_14_loss: 4.5631 - dense_15_loss: 1.9643\n",
      "Epoch 134/150\n",
      "88/88 - 0s - loss: 6.5365 - dense_14_loss: 4.5732 - dense_15_loss: 1.9633\n",
      "Epoch 135/150\n",
      "88/88 - 0s - loss: 6.5405 - dense_14_loss: 4.5764 - dense_15_loss: 1.9642\n",
      "Epoch 136/150\n",
      "88/88 - 0s - loss: 6.5298 - dense_14_loss: 4.5665 - dense_15_loss: 1.9633\n",
      "Epoch 137/150\n",
      "88/88 - 0s - loss: 6.5243 - dense_14_loss: 4.5620 - dense_15_loss: 1.9623\n",
      "Epoch 138/150\n",
      "88/88 - 0s - loss: 6.5254 - dense_14_loss: 4.5633 - dense_15_loss: 1.9620\n",
      "Epoch 139/150\n",
      "88/88 - 0s - loss: 6.5162 - dense_14_loss: 4.5544 - dense_15_loss: 1.9617\n",
      "Epoch 140/150\n",
      "88/88 - 0s - loss: 6.5059 - dense_14_loss: 4.5455 - dense_15_loss: 1.9604\n",
      "Epoch 141/150\n",
      "88/88 - 0s - loss: 6.5476 - dense_14_loss: 4.5849 - dense_15_loss: 1.9627\n",
      "Epoch 142/150\n",
      "88/88 - 0s - loss: 6.5272 - dense_14_loss: 4.5665 - dense_15_loss: 1.9607\n",
      "Epoch 143/150\n",
      "88/88 - 0s - loss: 6.5334 - dense_14_loss: 4.5723 - dense_15_loss: 1.9610\n",
      "Epoch 144/150\n",
      "88/88 - 0s - loss: 6.5411 - dense_14_loss: 4.5794 - dense_15_loss: 1.9617\n",
      "Epoch 145/150\n",
      "88/88 - 0s - loss: 6.5154 - dense_14_loss: 4.5555 - dense_15_loss: 1.9599\n",
      "Epoch 146/150\n",
      "88/88 - 0s - loss: 6.5264 - dense_14_loss: 4.5659 - dense_15_loss: 1.9605\n",
      "Epoch 147/150\n",
      "88/88 - 0s - loss: 6.5555 - dense_14_loss: 4.5945 - dense_15_loss: 1.9611\n",
      "Epoch 148/150\n",
      "88/88 - 0s - loss: 6.5040 - dense_14_loss: 4.5466 - dense_15_loss: 1.9574\n",
      "Epoch 149/150\n",
      "88/88 - 0s - loss: 6.5040 - dense_14_loss: 4.5461 - dense_15_loss: 1.9579\n",
      "Epoch 150/150\n",
      "88/88 - 0s - loss: 6.4920 - dense_14_loss: 4.5345 - dense_15_loss: 1.9575\n"
     ]
    },
    {
     "data": {
      "text/plain": [
       "<tensorflow.python.keras.callbacks.History at 0x7fce70384e80>"
      ]
     },
     "execution_count": 46,
     "metadata": {},
     "output_type": "execute_result"
    }
   ],
   "source": [
    "# fit the keras model on the dataset\n",
    "model.fit(X_train, [y_train,y_train_class], epochs=150, batch_size=32, verbose=0)"
   ]
  },
  {
   "cell_type": "code",
   "execution_count": 47,
   "id": "fcc23bdf-5d5d-4d47-8546-dd0b1939f5d6",
   "metadata": {},
   "outputs": [],
   "source": [
    "# make predictions on test set\n",
    "yhat1, yhat2 = model.predict(X_test)"
   ]
  },
  {
   "cell_type": "markdown",
   "id": "a9d536fc-641a-461b-8154-6c897300f38b",
   "metadata": {},
   "source": [
    "### Evaluar regresión"
   ]
  },
  {
   "cell_type": "code",
   "execution_count": 48,
   "id": "7bc1a121-fd9d-454a-8226-d2ce9472840d",
   "metadata": {},
   "outputs": [
    {
     "name": "stdout",
     "output_type": "stream",
     "text": [
      "MAE: 1.582\n"
     ]
    }
   ],
   "source": [
    "# calculate error for regression model\n",
    "error = mean_absolute_error(y_test, yhat1)\n",
    "print('MAE: %.3f' % error)"
   ]
  },
  {
   "cell_type": "markdown",
   "id": "6d8aa77c-e497-4019-9274-7040bdfe88f3",
   "metadata": {},
   "source": [
    "### Evaluar clasificación"
   ]
  },
  {
   "cell_type": "code",
   "execution_count": 50,
   "id": "76144e77-6f3b-4443-a0f6-c622975c3f38",
   "metadata": {},
   "outputs": [
    {
     "name": "stdout",
     "output_type": "stream",
     "text": [
      "Accuracy: 0.273\n"
     ]
    }
   ],
   "source": [
    "# evaluate accuracy for classification model\n",
    "yhat2 = argmax(yhat2, axis=-1).astype('int')\n",
    "acc = accuracy_score(y_test_class, yhat2)\n",
    "print('Accuracy: %.3f' % acc)"
   ]
  },
  {
   "cell_type": "code",
   "execution_count": null,
   "id": "6f36eba2-660f-44fa-96dd-fe411341eaf9",
   "metadata": {},
   "outputs": [],
   "source": []
  }
 ],
 "metadata": {
  "kernelspec": {
   "display_name": "Python 3 (ipykernel)",
   "language": "python",
   "name": "python3"
  },
  "language_info": {
   "codemirror_mode": {
    "name": "ipython",
    "version": 3
   },
   "file_extension": ".py",
   "mimetype": "text/x-python",
   "name": "python",
   "nbconvert_exporter": "python",
   "pygments_lexer": "ipython3",
   "version": "3.8.2"
  }
 },
 "nbformat": 4,
 "nbformat_minor": 5
}
