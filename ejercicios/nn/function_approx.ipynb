{
 "cells": [
  {
   "cell_type": "markdown",
   "id": "160db85e-8c7f-4a6b-856f-b81c7eca2e18",
   "metadata": {},
   "source": [
    "## Neural Networks are Function Approximation Algorithms\n",
    "\n",
    "Tomado de [Machine Learning Mastery](https://machinelearningmastery.com/neural-networks-are-function-approximators/)\n",
    "\n"
   ]
  },
  {
   "cell_type": "code",
   "execution_count": null,
   "id": "86e3ca6a-0f91-4229-ac97-258c828846be",
   "metadata": {},
   "outputs": [],
   "source": [
    "import numpy as np\n",
    "from sklearn.preprocessing import MinMaxScaler\n",
    "from sklearn.metrics import mean_squared_error\n",
    "#from tensorflow import keras\n",
    "from tensorflow.keras.models import Sequential\n",
    "from tensorflow.keras.layers import Dense\n",
    "from numpy import asarray\n",
    "from matplotlib import pyplot"
   ]
  },
  {
   "cell_type": "code",
   "execution_count": null,
   "id": "14d8ac3c-0d7f-4389-ac6b-6a9bda977b7f",
   "metadata": {},
   "outputs": [],
   "source": [
    "# example of creating a univariate dataset with a given mapping function\n",
    "from matplotlib import pyplot\n",
    "# define the input data\n",
    "x = [i for i in range(-50,51)]\n",
    "# define the output data\n",
    "y = [i**2.0 for i in x]\n",
    "# plot the input versus the output\n",
    "pyplot.scatter(x,y)\n",
    "pyplot.title('Input (x) versus Output (y)')\n",
    "pyplot.xlabel('Input Variable (x)')\n",
    "pyplot.ylabel('Output Variable (y)')\n",
    "pyplot.show()"
   ]
  },
  {
   "cell_type": "code",
   "execution_count": null,
   "id": "9d016543-c827-46a1-b202-f69d29577469",
   "metadata": {},
   "outputs": [],
   "source": [
    "\n",
    "# define the dataset\n",
    "x = np.asarray([i for i in range(-50,51)])\n",
    "y = np.asarray([i**2.0 for i in x])\n",
    "print(x.min(), x.max(), y.min(), y.max())"
   ]
  },
  {
   "cell_type": "code",
   "execution_count": null,
   "id": "64e5dfcd-6418-4928-9077-184c425a11c7",
   "metadata": {},
   "outputs": [],
   "source": [
    "\n",
    "# reshape arrays into into rows and cols\n",
    "x = x.reshape((len(x), 1))\n",
    "y = y.reshape((len(y), 1))"
   ]
  },
  {
   "cell_type": "code",
   "execution_count": null,
   "id": "a7057caa-de61-4b70-b195-6b7da149f7e2",
   "metadata": {},
   "outputs": [],
   "source": [
    "# separately scale the input and output variables\n",
    "scale_x = MinMaxScaler()\n",
    "x = scale_x.fit_transform(x)\n",
    "scale_y = MinMaxScaler()\n",
    "y = scale_y.fit_transform(y)\n",
    "print(x.min(), x.max(), y.min(), y.max())"
   ]
  },
  {
   "cell_type": "code",
   "execution_count": null,
   "id": "fe63e52f-f9a4-475e-9ae9-616f627e4834",
   "metadata": {},
   "outputs": [],
   "source": [
    "# design the neural network model\n",
    "model = Sequential()\n",
    "model.add(Dense(10, input_dim=1, activation='relu', kernel_initializer='he_uniform'))\n",
    "model.add(Dense(10, activation='relu', kernel_initializer='he_uniform'))\n",
    "model.add(Dense(1))"
   ]
  },
  {
   "cell_type": "code",
   "execution_count": null,
   "id": "e52565dc-127d-4e0f-9ed1-0aacb0568e65",
   "metadata": {},
   "outputs": [],
   "source": [
    "# define the loss function and optimization algorithm\n",
    "model.compile(loss='mse', optimizer='adam')"
   ]
  },
  {
   "cell_type": "code",
   "execution_count": null,
   "id": "88f1a2eb-2b8f-4df1-a7b0-d563d91ab932",
   "metadata": {},
   "outputs": [],
   "source": [
    "\n",
    "# ft the model on the training dataset\n",
    "model.fit(x, y, epochs=500, batch_size=10, verbose=0)"
   ]
  },
  {
   "cell_type": "code",
   "execution_count": null,
   "id": "ecdfb9e6-a0d9-4d2a-a5cc-1e4ad359fe26",
   "metadata": {},
   "outputs": [],
   "source": [
    "# make predictions for the input data\n",
    "yhat = model.predict(x)"
   ]
  },
  {
   "cell_type": "code",
   "execution_count": null,
   "id": "2aeced28-d1ba-44d5-bdf3-4c84b85e6ad0",
   "metadata": {},
   "outputs": [],
   "source": [
    "# inverse transforms\n",
    "x_plot = scale_x.inverse_transform(x)\n",
    "y_plot = scale_y.inverse_transform(y)\n",
    "yhat_plot = scale_y.inverse_transform(yhat)"
   ]
  },
  {
   "cell_type": "code",
   "execution_count": null,
   "id": "5dad3eba-4c5d-40e4-a5d5-e9eb781fb552",
   "metadata": {},
   "outputs": [],
   "source": [
    "# report model error\n",
    "print('MSE: %.3f' % mean_squared_error(y_plot, yhat_plot))"
   ]
  },
  {
   "cell_type": "code",
   "execution_count": null,
   "id": "036d104c-89b1-417b-9827-3b4ec2eb46f7",
   "metadata": {
    "tags": []
   },
   "outputs": [],
   "source": [
    "# plot x vs yhat\n",
    "pyplot.scatter(x_plot,yhat_plot, label='Predicted')\n",
    "pyplot.title('Input (x) versus Output (y)')\n",
    "pyplot.xlabel('Input Variable (x)')\n",
    "pyplot.ylabel('Output Variable (y)')\n",
    "pyplot.legend()\n",
    "pyplot.show()"
   ]
  },
  {
   "cell_type": "code",
   "execution_count": null,
   "id": "d4776247-01be-498a-a900-73ccebb78ec2",
   "metadata": {
    "tags": []
   },
   "outputs": [],
   "source": [
    "# define the dataset\n",
    "x = asarray([i for i in range(-50,51)])\n",
    "y = asarray([i**2.0 for i in x])\n",
    "print(x.min(), x.max(), y.min(), y.max())\n",
    "\n",
    "# reshape arrays into into rows and cols\n",
    "x = x.reshape((len(x), 1))\n",
    "y = y.reshape((len(y), 1))\n",
    "\n",
    "# separately scale the input and output variables\n",
    "scale_x = MinMaxScaler()\n",
    "x = scale_x.fit_transform(x)\n",
    "scale_y = MinMaxScaler()\n",
    "y = scale_y.fit_transform(y)\n",
    "print(x.min(), x.max(), y.min(), y.max())\n",
    "\n",
    "# design the neural network model\n",
    "model = Sequential()\n",
    "model.add(Dense(10, input_dim=1, activation='relu', kernel_initializer='he_uniform'))\n",
    "model.add(Dense(10, activation='relu', kernel_initializer='he_uniform'))\n",
    "model.add(Dense(1))\n",
    "\n",
    "# define the loss function and optimization algorithm\n",
    "model.compile(loss='mse', optimizer='adam')\n",
    "\n",
    "# ft the model on the training dataset\n",
    "model.fit(x, y, epochs=500, batch_size=10, verbose=0)\n",
    "\n",
    "# make predictions for the input data\n",
    "yhat = model.predict(x)\n",
    "\n",
    "# inverse transforms\n",
    "x_plot = scale_x.inverse_transform(x)\n",
    "y_plot = scale_y.inverse_transform(y)\n",
    "yhat_plot = scale_y.inverse_transform(yhat)\n",
    "\n",
    "# report model error\n",
    "print('MSE: %.3f' % mean_squared_error(y_plot, yhat_plot))\n",
    "\n",
    "# plot x vs y\n",
    "pyplot.figure(figsize=(10,10))\n",
    "pyplot.scatter(x_plot,y_plot, label='Actual')\n",
    "\n",
    "# plot x vs yhat\n",
    "pyplot.scatter(x_plot,yhat_plot, label='Predicted')\n",
    "pyplot.title('Input (x) versus Output (y)')\n",
    "pyplot.xlabel('Input Variable (x)')\n",
    "pyplot.ylabel('Output Variable (y)')\n",
    "pyplot.legend()\n",
    "pyplot.show()"
   ]
  },
  {
   "cell_type": "code",
   "execution_count": null,
   "id": "60e36ad2-f071-4388-b9fa-72245f05ebb3",
   "metadata": {},
   "outputs": [],
   "source": []
  }
 ],
 "metadata": {
  "kernelspec": {
   "display_name": "Python 3 (ipykernel)",
   "language": "python",
   "name": "python3"
  },
  "language_info": {
   "codemirror_mode": {
    "name": "ipython",
    "version": 3
   },
   "file_extension": ".py",
   "mimetype": "text/x-python",
   "name": "python",
   "nbconvert_exporter": "python",
   "pygments_lexer": "ipython3",
   "version": "3.9.7"
  }
 },
 "nbformat": 4,
 "nbformat_minor": 5
}
