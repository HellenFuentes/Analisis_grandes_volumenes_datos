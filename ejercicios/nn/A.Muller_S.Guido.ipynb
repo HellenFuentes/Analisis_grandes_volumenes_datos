{
 "cells": [
  {
   "cell_type": "markdown",
   "id": "5c8b8e8f-05fe-4103-8ffe-4d7b0b49508f",
   "metadata": {
    "tags": []
   },
   "source": [
    "## Redes Neuronales con Multilayer Perceptron\n",
    "\n",
    "Se utiliza el material del **Introduction to Machine Learning** with Python Andreas y Sarah Guido.\n",
    "\n",
    "El material está en [Github](https://github.com/amueller/introduction_to_ml_with_python)\n",
    "\n"
   ]
  },
  {
   "cell_type": "code",
   "execution_count": null,
   "id": "36747a94-b2c1-42d4-8b41-5e2a29c8ea2f",
   "metadata": {},
   "outputs": [],
   "source": [
    "#!pip install mglearn\n",
    "#!pip install graphviz\n"
   ]
  },
  {
   "cell_type": "code",
   "execution_count": null,
   "id": "d914bdb9-b30d-4cee-831d-49f882f4aa97",
   "metadata": {},
   "outputs": [],
   "source": [
    "import pandas as pd\n",
    "import numpy as np\n",
    "import matplotlib.pyplot as plt\n",
    "import mglearn\n",
    "from sklearn.model_selection import train_test_split\n"
   ]
  },
  {
   "cell_type": "markdown",
   "id": "42437805-3bc1-4446-8e0d-1d5ea1259a22",
   "metadata": {},
   "source": [
    "Figuras de ejemplo"
   ]
  },
  {
   "cell_type": "code",
   "execution_count": null,
   "id": "58b4b311-9aa5-4c29-9088-28cf4f37dcfe",
   "metadata": {},
   "outputs": [],
   "source": [
    "display(mglearn.plots.plot_logistic_regression_graph())"
   ]
  },
  {
   "cell_type": "code",
   "execution_count": null,
   "id": "a29bb6ee-c181-4d00-9768-74f602601d7c",
   "metadata": {},
   "outputs": [],
   "source": [
    "display(mglearn.plots.plot_single_hidden_layer_graph())"
   ]
  },
  {
   "cell_type": "code",
   "execution_count": null,
   "id": "ff040547-5825-4d59-8e88-2fd2b9ed5639",
   "metadata": {},
   "outputs": [],
   "source": [
    "mglearn.plots.plot_two_hidden_layer_graph()"
   ]
  },
  {
   "cell_type": "markdown",
   "id": "37ea1ea4-1ab6-4be1-a54f-2ee8aed2f57e",
   "metadata": {},
   "source": [
    "Muestra algunas funciones de activación"
   ]
  },
  {
   "cell_type": "code",
   "execution_count": null,
   "id": "76ef5b04-fbf2-4519-afb8-d6a613ecfd8e",
   "metadata": {},
   "outputs": [],
   "source": [
    "line = np.linspace(-3, 3, 100)\n",
    "plt.plot(line, np.tanh(line), label=\"tanh\")\n",
    "plt.plot(line, np.maximum(line, 0), label=\"relu\")\n",
    "plt.legend(loc=\"best\")\n",
    "plt.xlabel(\"x\")\n",
    "plt.ylabel(\"relu(x), tanh(x)\")"
   ]
  },
  {
   "cell_type": "markdown",
   "id": "7dc74beb-1599-4608-98b7-852ee16f907b",
   "metadata": {},
   "source": [
    "Ejemplo de clasificación binaria con MLP"
   ]
  },
  {
   "cell_type": "code",
   "execution_count": null,
   "id": "66415c9c-b0df-4aa1-9004-6f744b3f1f9b",
   "metadata": {},
   "outputs": [],
   "source": [
    "from sklearn.neural_network import MLPClassifier\n",
    "from sklearn.datasets import make_moons\n",
    "\n",
    "X, y = make_moons(n_samples=100, noise=0.25, random_state=3)\n",
    "\n",
    "X_train, X_test, y_train, y_test = train_test_split(X, y, stratify=y,random_state=42)\n",
    "\n",
    "mlp = MLPClassifier(solver='lbfgs', random_state=0).fit(X_train, y_train)\n",
    "mglearn.plots.plot_2d_separator(mlp, X_train, fill=True, alpha=.3)\n",
    "mglearn.discrete_scatter(X_train[:, 0], X_train[:, 1], y_train)\n",
    "plt.xlabel(\"Feature 0\")\n",
    "plt.ylabel(\"Feature 1\")"
   ]
  },
  {
   "cell_type": "markdown",
   "id": "5aeb04f6-c685-4ec2-943a-42929c431436",
   "metadata": {},
   "source": [
    "Cambia el número de neuronas en la capa oculta (el default era 100)"
   ]
  },
  {
   "cell_type": "code",
   "execution_count": null,
   "id": "19a146a5-c845-490a-905c-6eb25b7e117a",
   "metadata": {},
   "outputs": [],
   "source": [
    "mlp = MLPClassifier(solver='lbfgs', random_state=0, hidden_layer_sizes=[10], max_iter=1000)\n",
    "mlp.fit(X_train, y_train)\n",
    "mglearn.plots.plot_2d_separator(mlp, X_train, fill=True, alpha=.3)\n",
    "mglearn.discrete_scatter(X_train[:, 0], X_train[:, 1], y_train)\n",
    "plt.xlabel(\"Feature 0\")\n",
    "plt.ylabel(\"Feature 1\")"
   ]
  },
  {
   "cell_type": "code",
   "execution_count": null,
   "id": "0c22f1c9-a7f3-47cf-acbe-8f0c23bdc19a",
   "metadata": {},
   "outputs": [],
   "source": [
    "# using two hidden layers, with 10 units each\n",
    "mlp = MLPClassifier(solver='lbfgs', random_state=0, hidden_layer_sizes=[10, 10])\n",
    "mlp.fit(X_train, y_train)\n",
    "mglearn.plots.plot_2d_separator(mlp, X_train, fill=True, alpha=.3)\n",
    "mglearn.discrete_scatter(X_train[:, 0], X_train[:, 1], y_train)\n",
    "plt.xlabel(\"Feature 0\")\n",
    "plt.ylabel(\"Feature 1\")"
   ]
  },
  {
   "cell_type": "code",
   "execution_count": null,
   "id": "9f9ce2da-dc13-45f3-b9e9-472df258c82e",
   "metadata": {},
   "outputs": [],
   "source": [
    "# using two hidden layers, with 10 units each, now with tanh nonlinearity.\n",
    "mlp = MLPClassifier(solver='lbfgs', activation='tanh',\n",
    "                    random_state=0, hidden_layer_sizes=[10, 10], max_iter=1000)\n",
    "mlp.fit(X_train, y_train)\n",
    "mglearn.plots.plot_2d_separator(mlp, X_train, fill=True, alpha=.3)\n",
    "mglearn.discrete_scatter(X_train[:, 0], X_train[:, 1], y_train)\n",
    "plt.xlabel(\"Feature 0\")\n",
    "plt.ylabel(\"Feature 1\")"
   ]
  },
  {
   "cell_type": "code",
   "execution_count": null,
   "id": "e7cfdcb3-ee2c-4fa9-99c1-a8811dad8de4",
   "metadata": {},
   "outputs": [],
   "source": [
    "# Varios casos cambiando cantidad de neuronas en dos capas ocultas y el param alfa para regularization L2\n",
    "fig, axes = plt.subplots(2, 4, figsize=(20, 8))\n",
    "for axx, n_hidden_nodes in zip(axes, [10, 100]):\n",
    "    for ax, alpha in zip(axx, [0.0001, 0.01, 0.1, 1]):\n",
    "        mlp = MLPClassifier(solver='lbfgs', random_state=0,\n",
    "                            hidden_layer_sizes=[n_hidden_nodes, n_hidden_nodes],\n",
    "                            alpha=alpha, max_iter=1000)\n",
    "        mlp.fit(X_train, y_train)\n",
    "        mglearn.plots.plot_2d_separator(mlp, X_train, fill=True, alpha=.3, ax=ax)\n",
    "        mglearn.discrete_scatter(X_train[:, 0], X_train[:, 1], y_train, ax=ax)\n",
    "        ax.set_title(\"n_hidden=[{}, {}]\\nalpha={:.4f}\".format(\n",
    "                      n_hidden_nodes, n_hidden_nodes, alpha))"
   ]
  },
  {
   "cell_type": "code",
   "execution_count": null,
   "id": "20bb65a5-fcae-4f0c-bcee-0d6f128950b1",
   "metadata": {},
   "outputs": [],
   "source": [
    "# En estos casos random_state cambia y los resultados también cambian, es decir son sensibles a este parámetro\n",
    "fig, axes = plt.subplots(2, 4, figsize=(20, 8))\n",
    "for i, ax in enumerate(axes.ravel()):\n",
    "    mlp = MLPClassifier(solver='lbfgs', random_state=i,\n",
    "                        hidden_layer_sizes=[100, 100])\n",
    "    mlp.fit(X_train, y_train)\n",
    "    mglearn.plots.plot_2d_separator(mlp, X_train, fill=True, alpha=.3, ax=ax)\n",
    "    mglearn.discrete_scatter(X_train[:, 0], X_train[:, 1], y_train, ax=ax)"
   ]
  },
  {
   "cell_type": "code",
   "execution_count": null,
   "id": "bbaa8bc1-31a1-4667-b51c-de26267fc476",
   "metadata": {},
   "outputs": [],
   "source": []
  },
  {
   "cell_type": "code",
   "execution_count": null,
   "id": "37c48ff1-c652-4b0f-b880-3c40fec7e6fa",
   "metadata": {},
   "outputs": [],
   "source": []
  }
 ],
 "metadata": {
  "kernelspec": {
   "display_name": "Python 3 (ipykernel)",
   "language": "python",
   "name": "python3"
  },
  "language_info": {
   "codemirror_mode": {
    "name": "ipython",
    "version": 3
   },
   "file_extension": ".py",
   "mimetype": "text/x-python",
   "name": "python",
   "nbconvert_exporter": "python",
   "pygments_lexer": "ipython3",
   "version": "3.9.7"
  }
 },
 "nbformat": 4,
 "nbformat_minor": 5
}
