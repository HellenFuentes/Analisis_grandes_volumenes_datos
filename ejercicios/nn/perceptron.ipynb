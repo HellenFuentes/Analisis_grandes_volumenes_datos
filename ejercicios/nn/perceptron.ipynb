{
 "cells": [
  {
   "cell_type": "markdown",
   "id": "abdbd57f-597c-4391-9ce8-73c93446d711",
   "metadata": {},
   "source": [
    "## Perceptron Algorithm for Classification in Python\n",
    "\n",
    "Tomado de [Machine Learning Mastery](https://machinelearningmastery.com/perceptron-algorithm-for-classification-in-python/)\n",
    "\n",
    "Muestra un ejemplo de uso de la clase [Perceptron](https://scikit-learn.org/stable/modules/generated/sklearn.linear_model.Perceptron.html) en Scikit-learn.\n",
    "\n",
    "Si quieren hacer un perceptron a pie, pueden ver este [tutorial de MLM](https://machinelearningmastery.com/implement-perceptron-algorithm-scratch-python/)\n"
   ]
  },
  {
   "cell_type": "code",
   "execution_count": 1,
   "id": "3b329a20-84ac-4db5-a8e1-09d2fd43b151",
   "metadata": {},
   "outputs": [
    {
     "name": "stdout",
     "output_type": "stream",
     "text": [
      "Mean Accuracy: 0.847 (0.052)\n"
     ]
    }
   ],
   "source": [
    "# evaluate a perceptron model on the dataset\n",
    "from numpy import mean\n",
    "from numpy import std\n",
    "from sklearn.datasets import make_classification\n",
    "from sklearn.model_selection import cross_val_score\n",
    "from sklearn.model_selection import RepeatedStratifiedKFold\n",
    "from sklearn.linear_model import Perceptron\n",
    "# define dataset\n",
    "X, y = make_classification(n_samples=1000, n_features=10, n_informative=10, n_redundant=0, random_state=1)\n",
    "# define model\n",
    "model = Perceptron()\n",
    "# define model evaluation method\n",
    "cv = RepeatedStratifiedKFold(n_splits=10, n_repeats=3, random_state=1)\n",
    "# evaluate model\n",
    "scores = cross_val_score(model, X, y, scoring='accuracy', cv=cv, n_jobs=-1)\n",
    "# summarize result\n",
    "print('Mean Accuracy: %.3f (%.3f)' % (mean(scores), std(scores)))"
   ]
  },
  {
   "cell_type": "code",
   "execution_count": 2,
   "id": "9524d7c7-7871-4f5e-bf6b-07a81bb5f704",
   "metadata": {},
   "outputs": [
    {
     "name": "stdout",
     "output_type": "stream",
     "text": [
      "Mean Accuracy: 0.857\n",
      "Config: {'eta0': 0.0001}\n",
      ">0.857 with: {'eta0': 0.0001}\n",
      ">0.857 with: {'eta0': 0.001}\n",
      ">0.853 with: {'eta0': 0.01}\n",
      ">0.847 with: {'eta0': 0.1}\n",
      ">0.847 with: {'eta0': 1.0}\n"
     ]
    }
   ],
   "source": [
    "\n",
    "# grid search learning rate for the perceptron\n",
    "from sklearn.datasets import make_classification\n",
    "from sklearn.model_selection import GridSearchCV\n",
    "from sklearn.model_selection import RepeatedStratifiedKFold\n",
    "from sklearn.linear_model import Perceptron\n",
    "# define dataset\n",
    "X, y = make_classification(n_samples=1000, n_features=10, n_informative=10, n_redundant=0, random_state=1)\n",
    "# define model\n",
    "model = Perceptron()\n",
    "# define model evaluation method\n",
    "cv = RepeatedStratifiedKFold(n_splits=10, n_repeats=3, random_state=1)\n",
    "# define grid\n",
    "grid = dict()\n",
    "grid['eta0'] = [0.0001, 0.001, 0.01, 0.1, 1.0]\n",
    "# define search\n",
    "search = GridSearchCV(model, grid, scoring='accuracy', cv=cv, n_jobs=-1)\n",
    "# perform the search\n",
    "results = search.fit(X, y)\n",
    "# summarize\n",
    "print('Mean Accuracy: %.3f' % results.best_score_)\n",
    "print('Config: %s' % results.best_params_)\n",
    "# summarize all\n",
    "means = results.cv_results_['mean_test_score']\n",
    "params = results.cv_results_['params']\n",
    "for mean, param in zip(means, params):\n",
    "    print(\">%.3f with: %r\" % (mean, param))"
   ]
  },
  {
   "cell_type": "code",
   "execution_count": 9,
   "id": "b2dacc96-8649-482f-99f5-349d6479a614",
   "metadata": {},
   "outputs": [],
   "source": [
    "import warnings\n",
    "warnings.filterwarnings('ignore')\n",
    "warnings.filterwarnings(action='once')\n",
    "\n",
    "import warnings\n",
    "from sklearn.exceptions import ConvergenceWarning\n",
    "warnings.simplefilter(\"ignore\", category=ConvergenceWarning)"
   ]
  },
  {
   "cell_type": "code",
   "execution_count": 22,
   "id": "60b06e23-dd52-4e85-aeda-69be842d3851",
   "metadata": {
    "tags": []
   },
   "outputs": [
    {
     "name": "stdout",
     "output_type": "stream",
     "text": [
      "Mean Accuracy: 0.857\n",
      "Config: {'max_iter': 100}\n",
      ">0.857 with: {'max_iter': 100}\n",
      ">0.857 with: {'max_iter': 1000}\n",
      ">0.857 with: {'max_iter': 10000}\n"
     ]
    }
   ],
   "source": [
    "\n",
    "# grid search total epochs for the perceptron\n",
    "from sklearn.datasets import make_classification\n",
    "from sklearn.model_selection import GridSearchCV\n",
    "from sklearn.model_selection import RepeatedStratifiedKFold\n",
    "from sklearn.linear_model import Perceptron\n",
    "# define dataset\n",
    "X, y = make_classification(n_samples=1000, n_features=10, n_informative=10, n_redundant=0, random_state=1)\n",
    "# define model\n",
    "model = Perceptron(eta0=0.0001)\n",
    "# define model evaluation method\n",
    "cv = RepeatedStratifiedKFold(n_splits=10, n_repeats=3, random_state=1)\n",
    "# define grid\n",
    "grid = dict()\n",
    "grid['max_iter'] = [100, 1000, 10000]\n",
    "# define search\n",
    "search = GridSearchCV(model, grid, scoring='accuracy', cv=cv, n_jobs=-1)\n",
    "# perform the search\n",
    "results = search.fit(X, y)\n",
    "# summarize\n",
    "print('Mean Accuracy: %.3f' % results.best_score_)\n",
    "print('Config: %s' % results.best_params_)\n",
    "# summarize all\n",
    "means = results.cv_results_['mean_test_score']\n",
    "params = results.cv_results_['params']\n",
    "for mean, param in zip(means, params):\n",
    "    print(\">%.3f with: %r\" % (mean, param))"
   ]
  },
  {
   "cell_type": "code",
   "execution_count": 17,
   "id": "c69cbf59-e7de-4600-aa5a-8671eb93cc20",
   "metadata": {
    "tags": []
   },
   "outputs": [
    {
     "name": "stdout",
     "output_type": "stream",
     "text": [
      "Mean Accuracy: 0.852 (0.051)\n"
     ]
    }
   ],
   "source": [
    "\n",
    "# evaluate a perceptron model on the dataset using nested CV\n",
    "from numpy import mean\n",
    "from numpy import std\n",
    "from sklearn.datasets import make_classification\n",
    "from sklearn.model_selection import cross_val_score\n",
    "from sklearn.model_selection import RepeatedStratifiedKFold\n",
    "from sklearn.linear_model import Perceptron\n",
    "from sklearn.model_selection import GridSearchCV\n",
    "\n",
    "# define dataset\n",
    "X, y = make_classification(n_samples=1000, n_features=10, n_informative=10, n_redundant=0, random_state=1)\n",
    "# define model\n",
    "model = Perceptron()\n",
    "\n",
    "# define hyper parameters space\n",
    "# define grid\n",
    "grid = dict()\n",
    "grid['eta0'] = [0.0001, 0.001, 0.01, 0.1, 1.0]\n",
    "grid['max_iter'] = [100, 1000, 10000]\n",
    "#grid['l1_ratio'] = [0.10,0.20,0.30,0.70,0.80,0.90]\n",
    "\n",
    "# define model evaluation method\n",
    "inner_cv = RepeatedStratifiedKFold(n_splits=10, n_repeats=2, random_state=1)\n",
    "outer_cv = RepeatedStratifiedKFold(n_splits=10, n_repeats=2, random_state=1)\n",
    "\n",
    "# define search\n",
    "best_param_model = GridSearchCV(model, grid, scoring='accuracy', n_jobs=1, cv=inner_cv, refit=True)\n",
    "\n",
    "# evaluate model\n",
    "scores = cross_val_score(best_param_model, X, y, scoring='accuracy', cv=outer_cv, n_jobs=-1)\n",
    "# summarize result\n",
    "print('Mean Accuracy: %.3f (%.3f)' % (mean(scores), std(scores)))"
   ]
  },
  {
   "cell_type": "code",
   "execution_count": null,
   "id": "2897057d-8e8e-480c-b372-12203ffda0d2",
   "metadata": {},
   "outputs": [],
   "source": []
  }
 ],
 "metadata": {
  "kernelspec": {
   "display_name": "Python 3 (ipykernel)",
   "language": "python",
   "name": "python3"
  },
  "language_info": {
   "codemirror_mode": {
    "name": "ipython",
    "version": 3
   },
   "file_extension": ".py",
   "mimetype": "text/x-python",
   "name": "python",
   "nbconvert_exporter": "python",
   "pygments_lexer": "ipython3",
   "version": "3.9.7"
  }
 },
 "nbformat": 4,
 "nbformat_minor": 5
}
