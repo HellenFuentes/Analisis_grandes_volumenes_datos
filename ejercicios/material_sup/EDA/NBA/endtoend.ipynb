{
 "cells": [
  {
   "cell_type": "markdown",
   "metadata": {},
   "source": [
    "## Fuentes\n",
    "* Este contenido fue tomado del curso MINF4538 Big Data Analysis - University of Zurich <a href=https://lms.uzh.ch/auth/RepositoryEntry/16703094861>Big Data Analytics</a> y el uso fue autorizado por el profesor Sven Helmer\n",
    "\n",
    "* Adaptaciones menores hechas para nuestro curso."
   ]
  },
  {
   "cell_type": "markdown",
   "metadata": {
    "colab_type": "text",
    "id": "b6gOr_hMj5I1"
   },
   "source": [
    "# End-to-End Example\n",
    "\n",
    "In this practical exercise, we are going to play through all the stages of a data-analytics process using a data set about the NBA (National Basketball Association). (We are taking a shortcut when it comes to collecting the data, as the web provider would probably not like it if around 80 students scrape data off their web site.) The questions we would like to answer are the following:\n",
    "\n",
    "1. How has the total amount of 3-point attempts by players in the NBA evolved compared to the number of (regular) 2-point attempts? The 3-point line was introduced in the 1979/80 season.\n",
    "\n",
    "2. How will 3-point attempts evolve in the (near) future if the current trends continue?\n",
    "\n",
    "\n",
    "\n",
    "## Collecting the Data\n",
    "\n",
    "So, the data is provided in a file called season_totals.csv. Nevertheless, below you find the code that can be used to scrape the data, so you have an impression what this looks like. The data is taken from https://www.basketball-reference.com/"
   ]
  },
  {
   "cell_type": "code",
   "execution_count": null,
   "metadata": {
    "colab": {},
    "colab_type": "code",
    "id": "sk8zsewAmCdt",
    "jupyter": {
     "source_hidden": true
    }
   },
   "outputs": [],
   "source": [
    "from bs4 import BeautifulSoup\n",
    "import requests\n",
    "import pandas as pd\n",
    "def parse_html_table(html_table):\n",
    "  '''For parsing basketball reference stats html table.\n",
    "  We will apply this function to every seasons html page.'''\n",
    "  data = []\n",
    "  cur_row = []\n",
    "  col_names = []\n",
    "\n",
    "  for ele in html_table:\n",
    "    stat_name = ele['data-stat']\n",
    "    stat_value = ele.string\n",
    "    new_row = (stat_name == 'player')\n",
    "    if new_row:\n",
    "      if cur_row:\n",
    "        data.append(cur_row)\n",
    "      cur_row = []\n",
    "      col_names = []\n",
    "      cur_row.append(ele['csk']) # fixes weird asterisk error\n",
    "      col_names.append(stat_name)\n",
    "      col_names.append('player_id')\n",
    "      cur_row.append(ele['data-append-csv'])\n",
    "      continue\n",
    "\n",
    "    cur_row.append(stat_value)\n",
    "    col_names.append(stat_name)\n",
    "  return data, col_names\n",
    "\n",
    "# Loop over each year and collect data\n",
    "dfs = []\n",
    "for yr in range(1980,(2017 + 1)):\n",
    "  url = '.../{yr}.html'.format(yr = yr)\n",
    "  r = requests.get(url)\n",
    "  soup = BeautifulSoup(r.text, 'html.parser')\n",
    "  yr_data, col_names = parse_html_table(soup.findAll('td'))\n",
    "  df = pd.DataFrame(yr_data, columns = col_names)\n",
    "  df['yr'] = yr\n",
    "  dfs.append(df)\n",
    "\n",
    "#all_seasons = pd.concat(dfs)\n",
    "#all_seasons.to_csv('season_totals.csv')\n",
    "\n"
   ]
  },
  {
   "cell_type": "markdown",
   "metadata": {
    "colab_type": "text",
    "id": "mo0-cvcCm9OS"
   },
   "source": [
    "Just upload the file using the standard dialog. This contains information about every player in the seasons from 1980 until 2017. The file season_totals.csv contains the following attributes:\n",
    "\n",
    "Column Name    Description <br>\n",
    "_c0    row number <br>\n",
    "player    Player Name (not an ID) <br>\n",
    "player_id    Unique player identification. <br>\n",
    "pos    Player position: PG (Point Guard),SG (Shooting Guard),SF (Small Forward),PF (Power Forward),C (Center) <br>\n",
    "age    Age of Player at the start of February 1st of that season. <br>\n",
    "team_id    Team id <br>\n",
    "g    Games played in season. <br>\n",
    "gs    Games started (played from beginning, no exchange) in season. <br>\n",
    "mp    Minutes played in season. <br>\n",
    "fg    Field goals in season. <br>\n",
    "fga    Field goal attempts in season. <br>\n",
    "fg_pct    Field goal percentage in season. <br>\n",
    "fg3    3-Point field goals in season. <br>\n",
    "fg3a    3-Point field goal attempts in season. <br>\n",
    "fg3_pct    3-Point field goal percentage in season. <br>\n",
    "fg2    2-Point field goals in season. <br>\n",
    "fg2a    2-point field goal attempts in season. <br>\n",
    "fg2_pct    2-Point field goal percentage in season. <br>\n",
    "efg_pct    Effective field goal percentage in season. <br>\n",
    "ft    free throws in season. <br>\n",
    "fta    Free throw attempts in season. <br>\n",
    "ft_pct    Free throw percentage in season. <br>\n",
    "orb    Offensive rebounds in season. <br>\n",
    "drb    Defensive rebounds in season. <br>\n",
    "trb    Total rebounds in season. <br>\n",
    "ast    Assists in season. <br>\n",
    "stl    Steals in season. <br>\n",
    "blk    Blocks in season. <br>\n",
    "tov    Turnovers in season. <br>\n",
    "pf    Personal fouls in season. <br>\n",
    "pts    Points in season. <br>\n",
    "yr    Year of season; i.e. 1980 refers to season 1979-80\n",
    "\n",
    "\n",
    "\n"
   ]
  },
  {
   "cell_type": "code",
   "execution_count": null,
   "metadata": {
    "colab": {},
    "colab_type": "code",
    "id": "jHSY68HXtHju"
   },
   "outputs": [],
   "source": [
    "from google.colab import files\n",
    "uploaded = files.upload()"
   ]
  },
  {
   "cell_type": "markdown",
   "metadata": {
    "colab_type": "text",
    "id": "h8T2xu4VuG0A"
   },
   "source": [
    "Let's have a first look if the file uploaded successfully by checking the first couple of lines."
   ]
  },
  {
   "cell_type": "code",
   "execution_count": 1,
   "metadata": {
    "colab": {},
    "colab_type": "code",
    "id": "3u0NV1q6tPKh"
   },
   "outputs": [
    {
     "name": "stdout",
     "output_type": "stream",
     "text": [
      "endtoend.ipynb    season_totals.csv\n",
      ",player,player_id,pos,age,team_id,g,gs,mp,fg,fga,fg_pct,fg3,fg3a,fg3_pct,fg2,fg2a,fg2_pct,efg_pct,ft,fta,ft_pct,orb,drb,trb,ast,stl,blk,tov,pf,pts,yr\n",
      "0,\"Abdul-Jabbar,Kareem\",abdulka01,C,32,LAL,82,,3143,835,1383,.604,0,1,.000,835,1382,.604,.604,364,476,.765,190,696,886,371,81,280,297,216,2034,1980\n",
      "1,\"Abernethy,Tom\",abernto01,PF,25,GSW,67,,1222,153,318,.481,0,1,.000,153,317,.483,.481,56,82,.683,62,129,191,87,35,12,39,118,362,1980\n",
      "2,\"Adams,Alvan\",adamsal01,C,25,PHO,75,,2168,465,875,.531,0,2,.000,465,873,.533,.531,188,236,.797,158,451,609,322,108,55,218,237,1118,1980\n",
      "3,\"Archibald,Tiny\",architi01,PG,31,BOS,80,80,2864,383,794,.482,4,18,.222,379,776,.488,.485,361,435,.830,59,138,197,671,106,10,242,218,1131,1980\n",
      "4,\"Awtrey,Dennis\",awtrede01,C,31,CHI,26,,560,27,60,.450,0,0,,27,60,.450,.450,32,50,.640,29,86,115,40,12,15,27,66,86,1980\n",
      "5,\"Bailey,Gus\",bailegu01,SG,28,WSB,20,,180,16,35,.457,1,1,1.000,15,34,.441,.471,5,13,.385,6,22,28,26,7,4,11,18,38,1980\n",
      "6,\"Bailey,James\",baileja01,PF,22,SEA,67,,726,122,271,.450,0,0,,122,271,.450,.450,68,101,.673,71,126,197,28,21,54,79,116,312,1980\n",
      "7,\"Ballard,Greg\",ballagr01,SF,25,WSB,82,,2438,545,1101,.495,16,47,.340,529,1054,.502,.502,171,227,.753,240,398,638,159,90,36,133,197,1277,1980\n",
      "8,\"Bantom,Mike\",bantomi01,SF,28,IND,77,,2330,384,760,.505,1,3,.333,383,757,.506,.506,139,209,.665,192,264,456,279,85,49,189,268,908,1980\n"
     ]
    }
   ],
   "source": [
    "!ls\n",
    "!head season_totals.csv"
   ]
  },
  {
   "cell_type": "markdown",
   "metadata": {
    "colab_type": "text",
    "id": "peJNIcMXukr7"
   },
   "source": [
    "Then we load some standard libraries we need for processing and visualizing the data (and also configure the style for seaborn)."
   ]
  },
  {
   "cell_type": "code",
   "execution_count": 2,
   "metadata": {
    "colab": {},
    "colab_type": "code",
    "id": "w1h9oR9WtbV3"
   },
   "outputs": [],
   "source": [
    "%matplotlib inline\n",
    "import os\n",
    "\n",
    "import numpy as np\n",
    "import pandas as pd\n",
    "import seaborn as sns\n",
    "\n",
    "sns.set_style(\"white\")"
   ]
  },
  {
   "cell_type": "markdown",
   "metadata": {
    "colab_type": "text",
    "id": "ChDKvpIpu8qv"
   },
   "source": [
    "## Exploring/Processing/Cleaning the Data\n",
    "\n",
    "Now we are set to start exploring the data. For some of the exploration, we also need to process the data (e.g. counting the total number entries, finding the maximal number of points scored by a player during one season, summing up the total number of games of Michael Jordan).\n",
    "\n",
    "Then we also want to find the top ten scorers (i.e., the players who scored the most points over their whole NBA career)"
   ]
  },
  {
   "cell_type": "code",
   "execution_count": 3,
   "metadata": {
    "colab": {},
    "colab_type": "code",
    "id": "VFPRvsmUuEJw"
   },
   "outputs": [
    {
     "name": "stdout",
     "output_type": "stream",
     "text": [
      "18889\n",
      "3041\n",
      "1072\n",
      "player\n",
      "Malone,Karl          36928\n",
      "Bryant,Kobe          33643\n",
      "Jordan,Michael       32292\n",
      "Nowitzki,Dirk        30260\n",
      "Johnson,Eddie        29779\n",
      "O'Neal,Shaquille     29428\n",
      "James,LeBron         28787\n",
      "Wilkins,Dominique    28591\n",
      "Carter,Vince         27463\n",
      "Iverson,Allen        27457\n",
      "Name: pts, dtype: int64\n"
     ]
    }
   ],
   "source": [
    "data = pd.read_csv('season_totals.csv', index_col=0)\n",
    "\n",
    "print(data['player_id'].count())  # number of total entries\n",
    "print(data['pts'].max())          # max of pts\n",
    "print(data['g'][data['player_id'] == 'jordami01'].sum())   # number of games of Michael Jordan\n",
    "\n",
    "pointsperplayer = data.groupby(['player'])['pts'].sum()\n",
    "print(pointsperplayer.sort_values(ascending=False).head(10))\n",
    "\n"
   ]
  },
  {
   "cell_type": "markdown",
   "metadata": {
    "colab_type": "text",
    "id": "OW2UabxCvkSW"
   },
   "source": [
    "While the previous section only returned some numbers, it may also be interesting to visualize some of the data. Below you find some examples in which we use histograms to collect and visualize some statistics about field goals and the age of players. If the domain is rather small (here the age of the players), dividing the histogram up into a fixed number of bins may produce some misleading results (like the two peaks). Alternatively, we can define the boundaries of the bins."
   ]
  },
  {
   "cell_type": "code",
   "execution_count": 4,
   "metadata": {
    "colab": {},
    "colab_type": "code",
    "id": "0uMqJNyQuQvp"
   },
   "outputs": [
    {
     "data": {
      "image/png": "[encoded data removed]",
      "text/plain": [
       "<Figure size 432x288 with 1 Axes>"
      ]
     },
     "metadata": {},
     "output_type": "display_data"
    },
    {
     "data": {
      "image/png": "[encoded data removed]",
      "text/plain": [
       "<Figure size 432x288 with 1 Axes>"
      ]
     },
     "metadata": {},
     "output_type": "display_data"
    },
    {
     "data": {
      "image/png": "[encoded data removed]",
      "text/plain": [
       "<Figure size 432x288 with 1 Axes>"
      ]
     },
     "metadata": {},
     "output_type": "display_data"
    },
    {
     "data": {
      "image/png": "[encoded data removed]",
      "text/plain": [
       "<Figure size 432x288 with 1 Axes>"
      ]
     },
     "metadata": {},
     "output_type": "display_data"
    },
    {
     "data": {
      "image/png": "[encoded data removed]",
      "text/plain": [
       "<Figure size 432x288 with 1 Axes>"
      ]
     },
     "metadata": {},
     "output_type": "display_data"
    },
    {
     "data": {
      "image/png": "[encoded data removed]",
      "text/plain": [
       "<Figure size 432x288 with 1 Axes>"
      ]
     },
     "metadata": {},
     "output_type": "display_data"
    }
   ],
   "source": [
    "histogram = data.hist(column='fg')\n",
    "histogram = data.hist(column='fg', bins=20)\n",
    "histogram = data.hist(column='age')\n",
    "histogram = data.hist(column='age', bins=22)\n",
    "histogram = data.hist(column='age', bins=[17,20,25,30,35,40,45])\n",
    "histogram = data.hist(column='age', bins=range(17,45))"
   ]
  },
  {
   "cell_type": "markdown",
   "metadata": {
    "colab_type": "text",
    "id": "Gk7GoUgAwAWr"
   },
   "source": [
    "Next, let us look at how successful players were in converting attempt into actual points."
   ]
  },
  {
   "cell_type": "code",
   "execution_count": null,
   "metadata": {
    "colab": {},
    "colab_type": "code",
    "id": "pGuHyC8W4Odm"
   },
   "outputs": [],
   "source": [
    "fieldgoals = data.groupby(['yr']).agg({'fg': sum, 'fga': sum})\n",
    "fieldgoals['ratio'] = fieldgoals['fg'] / fieldgoals['fga']\n",
    "\n",
    "print(fieldgoals.sort_values(by=['ratio'],ascending=False).head(10))\n",
    "print(fieldgoals.sort_values(by=['yr'],ascending=True))"
   ]
  },
  {
   "cell_type": "markdown",
   "metadata": {
    "colab_type": "text",
    "id": "P5GH2JF-yfWD"
   },
   "source": [
    "As columns of numbers are not easy to interpret, we are going to plot the data next. Looking at the total number of field goals and field goal attempts over the seasons from 1980 to 2017, we see two distinctive drops (which do not seem to show up in the ratio). This is probably some kind of artifcact: can you explain what happened here? Can this part of the data be cleaned or do we have to live with it?"
   ]
  },
  {
   "cell_type": "code",
   "execution_count": null,
   "metadata": {
    "colab": {},
    "colab_type": "code",
    "id": "BS-2XhGz-Tzz"
   },
   "outputs": [],
   "source": [
    "ax = fieldgoals.plot(y='fg')\n",
    "fieldgoals.plot(y='fga', ax=ax)\n",
    "fieldgoals.plot(y='ratio')\n"
   ]
  },
  {
   "cell_type": "markdown",
   "metadata": {
    "colab_type": "text",
    "id": "PyBtfS8ezQyz"
   },
   "source": [
    "Let us now turn towards answering the questions formulated at the beginning of the notebooks, i.e., we will investigate the 3-point attempts compared to the 2-point attempts."
   ]
  },
  {
   "cell_type": "code",
   "execution_count": null,
   "metadata": {
    "colab": {},
    "colab_type": "code",
    "id": "e1TxOV40A_wK"
   },
   "outputs": [],
   "source": [
    "fieldgoals = data.groupby(['yr']).agg({'fg2a': sum, 'fg3a': sum})\n",
    "print(fieldgoals.head(10))"
   ]
  },
  {
   "cell_type": "markdown",
   "metadata": {
    "colab_type": "text",
    "id": "Tf3HpxKi0Vp1"
   },
   "source": [
    "Let's look at a graphical representation. Again we see the two drops, but then there is also a rise in the number of 3-point attempts in the late 1990s. Is this a statistical fluke or is there some explanation for it?"
   ]
  },
  {
   "cell_type": "code",
   "execution_count": null,
   "metadata": {
    "colab": {},
    "colab_type": "code",
    "id": "6oWdDE6hBUi0"
   },
   "outputs": [],
   "source": [
    "ax = fieldgoals.plot(y='fg2a')\n",
    "fieldgoals.plot(y='fg3a', ax=ax)"
   ]
  },
  {
   "cell_type": "markdown",
   "metadata": {
    "colab_type": "text",
    "id": "iLZ2oXPR0yOI"
   },
   "source": [
    "## Building a Model and Visualizing the Results\n",
    "\n",
    "Next we build a model to describe the evolution of 3-point attempts in the NBA. For this we have to do a bit of preprocessing to get the data into the right shape. Then we train a linear regression model."
   ]
  },
  {
   "cell_type": "code",
   "execution_count": null,
   "metadata": {
    "colab": {},
    "colab_type": "code",
    "id": "S8qHHeEqRyML"
   },
   "outputs": [],
   "source": [
    "x = fieldgoals.index.values\n",
    "y = fieldgoals['fg3a'].values"
   ]
  },
  {
   "cell_type": "code",
   "execution_count": null,
   "metadata": {
    "colab": {},
    "colab_type": "code",
    "id": "mTdA92V1Ue4p"
   },
   "outputs": [],
   "source": [
    "from sklearn.linear_model import LinearRegression\n",
    "model = LinearRegression(fit_intercept=True)\n",
    "\n",
    "model.fit(x[:, np.newaxis], y)\n",
    "\n",
    "xfit = np.linspace(1980, 2017, 100)\n",
    "yfit = model.predict(xfit[:, np.newaxis])\n",
    "\n",
    "lindf = pd.DataFrame(index=xfit, data={'3pt_attempts': yfit})\n",
    "ax = fieldgoals.plot(y='fg3a')\n",
    "lindf.plot(y='3pt_attempts', ax=ax)\n"
   ]
  },
  {
   "cell_type": "markdown",
   "metadata": {
    "colab_type": "text",
    "id": "uqfDZ-sc1Nb8"
   },
   "source": [
    "There seems to be a steeper rise in 3-point attempts in the later part of the time period. Let's see what a model for the years from 2009 to 2017 looks like."
   ]
  },
  {
   "cell_type": "code",
   "execution_count": null,
   "metadata": {
    "colab": {},
    "colab_type": "code",
    "id": "_12CAuuqXpiJ"
   },
   "outputs": [],
   "source": [
    "recentx = x[29:38, np.newaxis]\n",
    "recenty = y[29:38]\n",
    "\n",
    "model.fit(recentx, recenty)\n",
    "\n",
    "rxfit = np.linspace(2009, 2017, 30)\n",
    "ryfit = model.predict(rxfit[:, np.newaxis])\n",
    "\n",
    "rlindf = pd.DataFrame(index=rxfit, data={'3pt_attempts': ryfit})\n",
    "ax = fieldgoals.plot(y='fg3a')\n",
    "lindf.plot(y='3pt_attempts', ax=ax)\n",
    "rlindf.plot(y='3pt_attempts', ax=ax)"
   ]
  },
  {
   "cell_type": "markdown",
   "metadata": {
    "colab_type": "text",
    "id": "v9ReXSw-1e2s"
   },
   "source": [
    "# If you are finished...\n",
    "\n",
    "...with all the analysis of the 3-point attempts and you think you have played around with the long enough, here are some more concrete questions to answer:\n",
    "\n",
    "1. How did the number of games and the number of personal fouls evolve over the seasons? Is there a correlation between the two numbers?\n",
    "\n",
    "2. What does this mean for individual players? Have players committed more or fewer personal fouls? Is this correlated to the time they spent on the basketball court?\n",
    "\n",
    "This is a free-form exercise, so no code is provided. Use and re-use code snippets you have used for analyzing the 3-point attempts and/or google for functionality you need."
   ]
  },
  {
   "cell_type": "code",
   "execution_count": null,
   "metadata": {
    "colab": {},
    "colab_type": "code",
    "id": "C5UMLb1AZHjI"
   },
   "outputs": [],
   "source": []
  }
 ],
 "metadata": {
  "colab": {
   "collapsed_sections": [],
   "name": "endtoend.ipynb",
   "provenance": [],
   "version": "0.3.2"
  },
  "kernelspec": {
   "display_name": "Python 3",
   "language": "python",
   "name": "python3"
  },
  "language_info": {
   "codemirror_mode": {
    "name": "ipython",
    "version": 3
   },
   "file_extension": ".py",
   "mimetype": "text/x-python",
   "name": "python",
   "nbconvert_exporter": "python",
   "pygments_lexer": "ipython3",
   "version": "3.8.6"
  }
 },
 "nbformat": 4,
 "nbformat_minor": 4
}
