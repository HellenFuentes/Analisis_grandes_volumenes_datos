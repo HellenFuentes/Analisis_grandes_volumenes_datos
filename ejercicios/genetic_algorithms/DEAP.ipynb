{
 "cells": [
  {
   "cell_type": "markdown",
   "id": "dd2e8948-8907-4fff-8c75-e22ef58f79d0",
   "metadata": {},
   "source": [
    "Pueden revisar otra implementación [sklearn-deap](https://github.com/rsteca/sklearn-deap)\n",
    "\n",
    "[DEAP](https://deap.readthedocs.io/en/master/) is developed at the Computer Vision and Systems Laboratory (CVSL) at Université Laval, in Quebec city, Canada.\n",
    "\n",
    "[DEAP en Github](https://github.com/deap/deap)"
   ]
  },
  {
   "cell_type": "code",
   "execution_count": null,
   "id": "6b7fcf5f-8394-431b-8475-c441509aec10",
   "metadata": {},
   "outputs": [],
   "source": []
  }
 ],
 "metadata": {
  "kernelspec": {
   "display_name": "Python 3 (ipykernel)",
   "language": "python",
   "name": "python3"
  },
  "language_info": {
   "codemirror_mode": {
    "name": "ipython",
    "version": 3
   },
   "file_extension": ".py",
   "mimetype": "text/x-python",
   "name": "python",
   "nbconvert_exporter": "python",
   "pygments_lexer": "ipython3",
   "version": "3.9.7"
  }
 },
 "nbformat": 4,
 "nbformat_minor": 5
}
