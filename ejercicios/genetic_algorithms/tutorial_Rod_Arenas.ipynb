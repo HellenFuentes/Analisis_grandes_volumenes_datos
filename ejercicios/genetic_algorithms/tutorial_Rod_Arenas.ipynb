{
 "cells": [
  {
   "cell_type": "markdown",
   "id": "68984556-e93f-4c53-b815-d09bb6253166",
   "metadata": {},
   "source": [
    "# Uso de algoritmos genéticos para búsqueda de hiper parámetros\n",
    "\n",
    "Fuente: [*Tune Your Scikit-learn Model Using Evolutionary Algorithms*](https://towardsdatascience.com/tune-your-scikit-learn-model-using-evolutionary-algorithms-30538248ac16)\n",
    "\n",
    "Autor: Rodrigo Arenas (towards data science)\n",
    "\n",
    "Para instalar el paquete\n",
    "\n",
    "`$ pip install sklearn-genetic-opt`\n"
   ]
  },
  {
   "cell_type": "markdown",
   "id": "aef26bb0-a69f-48ec-a861-69be8c865eda",
   "metadata": {},
   "source": [
    "### Ejemplo con un RandomForestClassifier"
   ]
  },
  {
   "cell_type": "code",
   "execution_count": null,
   "id": "8a9aa7dc-c25b-444b-898e-f2ca3f4ef701",
   "metadata": {},
   "outputs": [],
   "source": [
    "from sklearn.ensemble import RandomForestClassifier\n",
    "from sklearn.model_selection import train_test_split\n",
    "from sklearn.datasets import load_digits\n",
    "from sklearn.metrics import accuracy_score\n",
    "import seaborn as sns\n",
    "\n",
    "data = load_digits() \n",
    "\n",
    "n_samples = len(data.images)\n",
    "X = data.images.reshape((n_samples, -1))\n",
    "y = data['target']\n",
    "\n",
    "X_train, X_test, y_train, y_test = train_test_split(X, y, test_size=0.7)\n",
    "\n",
    "clf = RandomForestClassifier()"
   ]
  },
  {
   "cell_type": "markdown",
   "id": "61eb0dc3-eca3-4e80-a56d-382dfd869c37",
   "metadata": {},
   "source": [
    "### Uso de `sklearn-genetic-opt`\n",
    "\n",
    "Elementos importantes:\n",
    "- `param_grid`\n",
    "- `GASearchCV`\n"
   ]
  },
  {
   "cell_type": "code",
   "execution_count": null,
   "id": "c049e0d5-8032-4bec-8e32-25e194442d77",
   "metadata": {},
   "outputs": [],
   "source": [
    "from sklearn_genetic import GASearchCV\n",
    "from sklearn_genetic.space import Continuous, Categorical, Integer\n",
    "from sklearn_genetic.plots import plot_fitness_evolution, plot_search_space\n",
    "from sklearn.model_selection import StratifiedKFold\n",
    "import matplotlib.pyplot as plt\n",
    "\n",
    "param_grid = {'min_weight_fraction_leaf': Continuous(0.01, 0.5, distribution='log-uniform'),\n",
    "              'bootstrap': Categorical([True, False]),\n",
    "              'max_depth': Integer(2, 30), \n",
    "              'max_leaf_nodes': Integer(2, 35), \n",
    "              'n_estimators': Integer(100, 300)}\n",
    "\n",
    "cv = StratifiedKFold(n_splits=3, shuffle=True)\n",
    "\n",
    "evolved_estimator = GASearchCV(estimator=clf,\n",
    "                               cv=cv,\n",
    "                               scoring='accuracy',\n",
    "                               population_size=10,\n",
    "                               generations=10,\n",
    "                               tournament_size=3,\n",
    "                               elitism=True,\n",
    "                               crossover_probability=0.8,\n",
    "                               mutation_probability=0.1,\n",
    "                               param_grid=param_grid,\n",
    "                               criteria='max',\n",
    "                               algorithm='eaMuPlusLambda',\n",
    "                               n_jobs=-1,\n",
    "                               verbose=True,\n",
    "                               keep_top_k=4)"
   ]
  },
  {
   "cell_type": "markdown",
   "id": "cfd8a728-f893-412a-bd85-910dff5562a9",
   "metadata": {},
   "source": [
    "### Inicio del ciclo"
   ]
  },
  {
   "cell_type": "code",
   "execution_count": null,
   "id": "ee0035c3-624c-48d4-816d-181dc798e414",
   "metadata": {},
   "outputs": [],
   "source": [
    "evolved_estimator.fit(X_train,y_train)\n"
   ]
  },
  {
   "cell_type": "markdown",
   "id": "2aaedb4b-6f8b-426a-b444-9e6bea182534",
   "metadata": {},
   "source": [
    "### Una predicción"
   ]
  },
  {
   "cell_type": "code",
   "execution_count": null,
   "id": "9191a82d-16b7-4c9d-be82-9467167c4ea6",
   "metadata": {},
   "outputs": [],
   "source": [
    "y_predicy_ga = evolved_estimator.predict(X_test)\n",
    "accuracy_score(y_test,y_predicy_ga)"
   ]
  },
  {
   "cell_type": "markdown",
   "id": "7037435f-a90d-4df2-8b29-c2e3783e113b",
   "metadata": {},
   "source": [
    "### Mejores parámetros"
   ]
  },
  {
   "cell_type": "code",
   "execution_count": null,
   "id": "b075b9f1-711e-436d-88c7-66b26cccc8cc",
   "metadata": {},
   "outputs": [],
   "source": [
    "evolved_estimator.best_params_"
   ]
  },
  {
   "cell_type": "code",
   "execution_count": null,
   "id": "b838c276-a7f2-4cbb-9167-e936c331961a",
   "metadata": {},
   "outputs": [],
   "source": [
    "import seaborn as sns\n",
    "plot_fitness_evolution(evolved_estimator)\n",
    "plt.show()"
   ]
  },
  {
   "cell_type": "code",
   "execution_count": null,
   "id": "46a7c5af-9bbd-41b0-a25f-db785e87ac90",
   "metadata": {},
   "outputs": [],
   "source": [
    "print(evolved_estimator.logbook)"
   ]
  },
  {
   "cell_type": "code",
   "execution_count": null,
   "id": "ab4f3ca5-15c4-4786-a040-3e208390a8a7",
   "metadata": {},
   "outputs": [],
   "source": [
    "evolved_estimator.hof"
   ]
  },
  {
   "cell_type": "code",
   "execution_count": null,
   "id": "3e796ef5-8eda-47f8-a8f5-5d94d89f1d15",
   "metadata": {},
   "outputs": [],
   "source": []
  }
 ],
 "metadata": {
  "kernelspec": {
   "display_name": "Python 3 (ipykernel)",
   "language": "python",
   "name": "python3"
  },
  "language_info": {
   "codemirror_mode": {
    "name": "ipython",
    "version": 3
   },
   "file_extension": ".py",
   "mimetype": "text/x-python",
   "name": "python",
   "nbconvert_exporter": "python",
   "pygments_lexer": "ipython3",
   "version": "3.9.7"
  }
 },
 "nbformat": 4,
 "nbformat_minor": 5
}
