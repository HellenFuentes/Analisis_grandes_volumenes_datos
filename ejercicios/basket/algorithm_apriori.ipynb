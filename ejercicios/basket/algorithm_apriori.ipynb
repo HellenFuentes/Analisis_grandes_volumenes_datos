{
 "cells": [
  {
   "cell_type": "markdown",
   "metadata": {},
   "source": [
    "# Análisis de Asociación\n",
    "\n",
    "## Ejemplo de algoritmo A priori\n",
    "Este ejemplo ha sido tomado del siguiente post: https://stackabuse.com/association-rule-mining-via-apriori-algorithm-in-python/ escrito por Usman Malik\n",
    "\n",
    "### Requisitos\n",
    "- Instalar esta biblioteca https://github.com/ymoch/apyori\n",
    "- Descargar el dataset: https://drive.google.com/file/d/1y5DYn0dGoSbC22xowBq2d4po6h1JxcTQ/view\n",
    "\n",
    "Puede instalar el paquete apyori desde una terminal:\n",
    "\n",
    "```\n",
    "$ pip install apyori\n",
    "```\n",
    "\n",
    "o desde el notebook\n",
    "\n",
    "```\n",
    "import sys\n",
    "!conda install --yes --prefix {sys.prefix} numpy\n",
    "```\n",
    "\n",
    "o puede instalarlo mediante `pip`\n",
    "\n",
    "```\n",
    "import sys\n",
    "!{sys.executable} -m pip install numpy\n",
    "```"
   ]
  },
  {
   "cell_type": "markdown",
   "metadata": {},
   "source": [
    "### Inicialización del programa"
   ]
  },
  {
   "cell_type": "code",
   "execution_count": null,
   "metadata": {},
   "outputs": [],
   "source": [
    "import numpy as np\n",
    "import matplotlib.pyplot as plt\n",
    "import pandas as pd\n",
    "from apyori import apriori"
   ]
  },
  {
   "cell_type": "markdown",
   "metadata": {},
   "source": [
    "### Importar el dataset"
   ]
  },
  {
   "cell_type": "markdown",
   "metadata": {},
   "source": [
    "#### Primera revisión"
   ]
  },
  {
   "cell_type": "code",
   "execution_count": null,
   "metadata": {},
   "outputs": [],
   "source": [
    "store_data = pd.read_csv('store_data.csv')\n",
    "store_data.head()"
   ]
  },
  {
   "cell_type": "markdown",
   "metadata": {},
   "source": [
    "#### Ingnorar la primera fila"
   ]
  },
  {
   "cell_type": "code",
   "execution_count": null,
   "metadata": {},
   "outputs": [],
   "source": [
    "store_data = pd.read_csv('store_data.csv', header=None)\n",
    "store_data.head()"
   ]
  },
  {
   "cell_type": "code",
   "execution_count": null,
   "metadata": {},
   "outputs": [],
   "source": [
    "print(\"El dataset tiene \" + str(store_data.shape[0]) + \" transacciones (filas) que involucran \" + str(store_data.shape[1]) + \" items (columnas).\")\n"
   ]
  },
  {
   "cell_type": "markdown",
   "metadata": {},
   "source": [
    "\n",
    "### Retomando los conceptos de Asociación y A Priori \n",
    "\n",
    "- **Itemsets**: Son grupos de items, representados con letras mayúsculas $A$ , $B$\n",
    "\n",
    "- **Reglas**: son asociaciones de itemsets con la forma $A \\rightarrow B$. Quiere decir que presencia de $A$ implica la presencia de $B$.\n",
    "\n",
    "- **Support**: Es una propieda de una regla e indica la evidencia sobre la cual se fundamenta la regla\n",
    "\n",
    "    $\\frac{\\sigma (A \\cup B)}{N}$ o $\\frac{\\textrm{Cantidad de transacciones que contienen A y B}}{N}$ donde $N$ es el número total de transacciones del dataset.\n",
    "\n",
    "- **Confidence**: Es una propieda de una regla e indica la precisión de la regla\n",
    "\n",
    "    $\\frac{\\sigma (A \\cup B)}{B}$ o $\\frac{\\textrm{Cantidad de transacciones que contienen A y B}}{\\textrm{Cantidad de transacciones que contienen A}}$ \n",
    "    \n",
    "- **Lift**: Es una propiedad de una regla e indica la utilidad de la regla \n",
    "    $\\frac{\\textrm{Confidence of the rule} A \\rightarrow B}{Prior(B)}$\n"
   ]
  },
  {
   "cell_type": "markdown",
   "metadata": {},
   "source": [
    "### Extraer las transacciones"
   ]
  },
  {
   "cell_type": "code",
   "execution_count": null,
   "metadata": {},
   "outputs": [],
   "source": [
    "total_transactions = store_data.shape[0]\n",
    "total_items = store_data.shape[1]\n",
    "records = []\n",
    "\n",
    "for i in range(0, total_transactions):\n",
    "    records.append([str(store_data.values[i,j]) for j in range(0, total_items)])"
   ]
  },
  {
   "cell_type": "markdown",
   "metadata": {},
   "source": [
    "### Parámetros que necesita el algoritmo a priori\n",
    "\n",
    "- `min_support` umbral de aceptación para  **Support** \n",
    "- `min_confidence` umbral de aceptación apra **Confidence**\n",
    "- `min_lift` umbral de aceptación para **Lift** \n",
    "- `max_length` (en el tutorial dice `min_records` por error)\n"
   ]
  },
  {
   "cell_type": "code",
   "execution_count": null,
   "metadata": {},
   "outputs": [],
   "source": [
    "def find_rules(records, min_support, min_confidence, min_lift, max_length):\n",
    "    association_rules = apriori(records, min_support=min_support, min_confidence=min_confidence, min_lift=min_lift, max_length=max_length)\n",
    "    association_results = list(association_rules)\n",
    "    found = len(association_results)\n",
    "    if (found > 0):\n",
    "        print(\"Found \" + str(len(association_results)) + \" rules \\n\")        \n",
    "        for item in association_results:\n",
    "\n",
    "            # first index of the inner list\n",
    "            # Contains base item and add item\n",
    "            pair = item[0] \n",
    "            items = [x for x in pair]\n",
    "            print(\"Rule: \" + items[0] + \" -> \" + items[1])\n",
    "\n",
    "            #second index of the inner list\n",
    "            print(\"Support: \" + str(item[1]))\n",
    "\n",
    "            #third index of the list located at 0th\n",
    "            #of the third index of the inner list\n",
    "\n",
    "            print(\"Confidence: \" + str(item[2][0][2]))\n",
    "            print(\"Lift: \" + str(item[2][0][3]))\n",
    "            print(\"=====================================\")\n",
    "    else:\n",
    "        print(\"Found no rules\")\n",
    "        "
   ]
  },
  {
   "cell_type": "code",
   "execution_count": null,
   "metadata": {},
   "outputs": [],
   "source": [
    "min_support    = 0.0045\n",
    "min_confidence = 0.2\n",
    "min_lift       = 4\n",
    "max_length     = 3\n",
    "\n",
    "find_rules(records, min_support=min_support, min_confidence=min_confidence, min_lift=min_lift, max_length=max_length)"
   ]
  },
  {
   "cell_type": "code",
   "execution_count": null,
   "metadata": {},
   "outputs": [],
   "source": []
  }
 ],
 "metadata": {
  "kernelspec": {
   "display_name": "Python 3",
   "language": "python",
   "name": "python3"
  },
  "language_info": {
   "codemirror_mode": {
    "name": "ipython",
    "version": 3
   },
   "file_extension": ".py",
   "mimetype": "text/x-python",
   "name": "python",
   "nbconvert_exporter": "python",
   "pygments_lexer": "ipython3",
   "version": "3.8.6"
  }
 },
 "nbformat": 4,
 "nbformat_minor": 4
}
